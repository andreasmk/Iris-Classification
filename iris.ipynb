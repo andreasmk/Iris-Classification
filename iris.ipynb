{
 "cells": [
  {
   "attachments": {},
   "cell_type": "markdown",
   "metadata": {},
   "source": [
    "#   **Pattern recognition course | ECE AUTH | 3nd project | Winter semester 2022**\n",
    "\n",
    "# **Floriculture Laboratory of the Department of Agriculture**\n",
    "\n",
    "![ logo](iris.png)"
   ]
  },
  {
   "cell_type": "markdown",
   "metadata": {},
   "source": [
    "\n",
    "\n",
    ">   Giachoudis Christos\n",
    "\n",
    "\n",
    ">   Kostopoulos Andreas Marios"
   ]
  },
  {
   "cell_type": "markdown",
   "metadata": {},
   "source": [
    "# **General comments**\n",
    "\n"
   ]
  },
  {
   "cell_type": "markdown",
   "metadata": {},
   "source": [
    "# Necessary imports"
   ]
  },
  {
   "cell_type": "code",
   "execution_count": 1,
   "metadata": {},
   "outputs": [],
   "source": [
    "# Importing the necessary libraries and modules\n",
    "import numpy as np\n",
    "import math\n",
    "import matplotlib.pyplot as plt\n",
    "import sklearn as skl\n",
    "import pandas as pd\n",
    "from sklearn.datasets import load_iris\n",
    "import random\n",
    "import statistics"
   ]
  },
  {
   "attachments": {},
   "cell_type": "markdown",
   "metadata": {},
   "source": [
    "# **Part A**"
   ]
  },
  {
   "attachments": {},
   "cell_type": "markdown",
   "metadata": {},
   "source": [
    "## **Iris plants dataset**"
   ]
  },
  {
   "cell_type": "code",
   "execution_count": 2,
   "metadata": {},
   "outputs": [
    {
     "data": {
      "text/html": [
       "<div>\n",
       "<style scoped>\n",
       "    .dataframe tbody tr th:only-of-type {\n",
       "        vertical-align: middle;\n",
       "    }\n",
       "\n",
       "    .dataframe tbody tr th {\n",
       "        vertical-align: top;\n",
       "    }\n",
       "\n",
       "    .dataframe thead th {\n",
       "        text-align: right;\n",
       "    }\n",
       "</style>\n",
       "<table border=\"1\" class=\"dataframe\">\n",
       "  <thead>\n",
       "    <tr style=\"text-align: right;\">\n",
       "      <th></th>\n",
       "      <th>sepal length (cm)</th>\n",
       "      <th>sepal width (cm)</th>\n",
       "      <th>petal length (cm)</th>\n",
       "      <th>petal width (cm)</th>\n",
       "    </tr>\n",
       "  </thead>\n",
       "  <tbody>\n",
       "    <tr>\n",
       "      <th>0</th>\n",
       "      <td>5.1</td>\n",
       "      <td>3.5</td>\n",
       "      <td>1.4</td>\n",
       "      <td>0.2</td>\n",
       "    </tr>\n",
       "    <tr>\n",
       "      <th>1</th>\n",
       "      <td>4.9</td>\n",
       "      <td>3.0</td>\n",
       "      <td>1.4</td>\n",
       "      <td>0.2</td>\n",
       "    </tr>\n",
       "    <tr>\n",
       "      <th>2</th>\n",
       "      <td>4.7</td>\n",
       "      <td>3.2</td>\n",
       "      <td>1.3</td>\n",
       "      <td>0.2</td>\n",
       "    </tr>\n",
       "    <tr>\n",
       "      <th>3</th>\n",
       "      <td>4.6</td>\n",
       "      <td>3.1</td>\n",
       "      <td>1.5</td>\n",
       "      <td>0.2</td>\n",
       "    </tr>\n",
       "    <tr>\n",
       "      <th>4</th>\n",
       "      <td>5.0</td>\n",
       "      <td>3.6</td>\n",
       "      <td>1.4</td>\n",
       "      <td>0.2</td>\n",
       "    </tr>\n",
       "  </tbody>\n",
       "</table>\n",
       "</div>"
      ],
      "text/plain": [
       "   sepal length (cm)  sepal width (cm)  petal length (cm)  petal width (cm)\n",
       "0                5.1               3.5                1.4               0.2\n",
       "1                4.9               3.0                1.4               0.2\n",
       "2                4.7               3.2                1.3               0.2\n",
       "3                4.6               3.1                1.5               0.2\n",
       "4                5.0               3.6                1.4               0.2"
      ]
     },
     "execution_count": 2,
     "metadata": {},
     "output_type": "execute_result"
    }
   ],
   "source": [
    "# import dataset\n",
    "dataset = load_iris(as_frame=True)\n",
    "\n",
    "# show dataset summary statistics\n",
    "dataset['data'].head()"
   ]
  },
  {
   "cell_type": "code",
   "execution_count": 3,
   "metadata": {},
   "outputs": [
    {
     "data": {
      "text/html": [
       "<div>\n",
       "<style scoped>\n",
       "    .dataframe tbody tr th:only-of-type {\n",
       "        vertical-align: middle;\n",
       "    }\n",
       "\n",
       "    .dataframe tbody tr th {\n",
       "        vertical-align: top;\n",
       "    }\n",
       "\n",
       "    .dataframe thead th {\n",
       "        text-align: right;\n",
       "    }\n",
       "</style>\n",
       "<table border=\"1\" class=\"dataframe\">\n",
       "  <thead>\n",
       "    <tr style=\"text-align: right;\">\n",
       "      <th></th>\n",
       "      <th>sepal length (cm)</th>\n",
       "      <th>sepal width (cm)</th>\n",
       "      <th>petal length (cm)</th>\n",
       "      <th>petal width (cm)</th>\n",
       "    </tr>\n",
       "  </thead>\n",
       "  <tbody>\n",
       "    <tr>\n",
       "      <th>count</th>\n",
       "      <td>150.000000</td>\n",
       "      <td>150.000000</td>\n",
       "      <td>150.000000</td>\n",
       "      <td>150.000000</td>\n",
       "    </tr>\n",
       "    <tr>\n",
       "      <th>mean</th>\n",
       "      <td>5.843333</td>\n",
       "      <td>3.057333</td>\n",
       "      <td>3.758000</td>\n",
       "      <td>1.199333</td>\n",
       "    </tr>\n",
       "    <tr>\n",
       "      <th>std</th>\n",
       "      <td>0.828066</td>\n",
       "      <td>0.435866</td>\n",
       "      <td>1.765298</td>\n",
       "      <td>0.762238</td>\n",
       "    </tr>\n",
       "    <tr>\n",
       "      <th>min</th>\n",
       "      <td>4.300000</td>\n",
       "      <td>2.000000</td>\n",
       "      <td>1.000000</td>\n",
       "      <td>0.100000</td>\n",
       "    </tr>\n",
       "    <tr>\n",
       "      <th>25%</th>\n",
       "      <td>5.100000</td>\n",
       "      <td>2.800000</td>\n",
       "      <td>1.600000</td>\n",
       "      <td>0.300000</td>\n",
       "    </tr>\n",
       "    <tr>\n",
       "      <th>50%</th>\n",
       "      <td>5.800000</td>\n",
       "      <td>3.000000</td>\n",
       "      <td>4.350000</td>\n",
       "      <td>1.300000</td>\n",
       "    </tr>\n",
       "    <tr>\n",
       "      <th>75%</th>\n",
       "      <td>6.400000</td>\n",
       "      <td>3.300000</td>\n",
       "      <td>5.100000</td>\n",
       "      <td>1.800000</td>\n",
       "    </tr>\n",
       "    <tr>\n",
       "      <th>max</th>\n",
       "      <td>7.900000</td>\n",
       "      <td>4.400000</td>\n",
       "      <td>6.900000</td>\n",
       "      <td>2.500000</td>\n",
       "    </tr>\n",
       "  </tbody>\n",
       "</table>\n",
       "</div>"
      ],
      "text/plain": [
       "       sepal length (cm)  sepal width (cm)  petal length (cm)  \\\n",
       "count         150.000000        150.000000         150.000000   \n",
       "mean            5.843333          3.057333           3.758000   \n",
       "std             0.828066          0.435866           1.765298   \n",
       "min             4.300000          2.000000           1.000000   \n",
       "25%             5.100000          2.800000           1.600000   \n",
       "50%             5.800000          3.000000           4.350000   \n",
       "75%             6.400000          3.300000           5.100000   \n",
       "max             7.900000          4.400000           6.900000   \n",
       "\n",
       "       petal width (cm)  \n",
       "count        150.000000  \n",
       "mean           1.199333  \n",
       "std            0.762238  \n",
       "min            0.100000  \n",
       "25%            0.300000  \n",
       "50%            1.300000  \n",
       "75%            1.800000  \n",
       "max            2.500000  "
      ]
     },
     "execution_count": 3,
     "metadata": {},
     "output_type": "execute_result"
    }
   ],
   "source": [
    "# show dataset statistics\n",
    "dataset['data'].describe()"
   ]
  },
  {
   "cell_type": "code",
   "execution_count": 4,
   "metadata": {},
   "outputs": [
    {
     "data": {
      "text/plain": [
       "0    50\n",
       "1    50\n",
       "2    50\n",
       "Name: target, dtype: int64"
      ]
     },
     "execution_count": 4,
     "metadata": {},
     "output_type": "execute_result"
    }
   ],
   "source": [
    "# show how many values we have in each class\n",
    "dataset['target'].value_counts()"
   ]
  },
  {
   "attachments": {},
   "cell_type": "markdown",
   "metadata": {},
   "source": [
    "### **No normalization is needed**"
   ]
  },
  {
   "cell_type": "code",
   "execution_count": 5,
   "metadata": {},
   "outputs": [
    {
     "data": {
      "text/plain": [
       "<AxesSubplot: >"
      ]
     },
     "execution_count": 5,
     "metadata": {},
     "output_type": "execute_result"
    },
    {
     "data": {
      "image/png": "[encoded data removed]",
      "text/plain": [
       "<Figure size 640x480 with 1 Axes>"
      ]
     },
     "metadata": {},
     "output_type": "display_data"
    }
   ],
   "source": [
    "# data quantity vizualization\n",
    "dataset.target.value_counts().plot(kind='bar', rot=0)"
   ]
  },
  {
   "attachments": {},
   "cell_type": "markdown",
   "metadata": {},
   "source": [
    "### **Pandas is in the game**\n",
    "### **Discarding the unnecessary data**"
   ]
  },
  {
   "cell_type": "code",
   "execution_count": 6,
   "metadata": {},
   "outputs": [
    {
     "name": "stdout",
     "output_type": "stream",
     "text": [
      "     sepal length (cm)  sepal width (cm)\n",
      "0                  5.1               3.5\n",
      "1                  4.9               3.0\n",
      "2                  4.7               3.2\n",
      "3                  4.6               3.1\n",
      "4                  5.0               3.6\n",
      "..                 ...               ...\n",
      "145                6.7               3.0\n",
      "146                6.3               2.5\n",
      "147                6.5               3.0\n",
      "148                6.2               3.4\n",
      "149                5.9               3.0\n",
      "\n",
      "[150 rows x 2 columns]\n",
      "0      0\n",
      "1      0\n",
      "2      0\n",
      "3      0\n",
      "4      0\n",
      "      ..\n",
      "145    2\n",
      "146    2\n",
      "147    2\n",
      "148    2\n",
      "149    2\n",
      "Name: target, Length: 150, dtype: int32\n"
     ]
    }
   ],
   "source": [
    "# convert to pandas dataframe (giati h zwh na einai toso dyskolh???)\n",
    "df = pd.DataFrame(dataset.data, columns=dataset.feature_names)\n",
    "df['target'] = dataset.target\n",
    "\n",
    "# discard what I don't need (2 and 3 are the columns we do not need)\n",
    "df.drop(df.columns[[2, 3]], axis=1, inplace=True)\n",
    "# print(df) # just checking\n",
    "\n",
    "# just checking\n",
    "X = df.get([\"sepal length (cm)\", \"sepal width (cm)\"])\n",
    "y = df.get(\"target\")\n",
    "print(X)\n",
    "print(y)"
   ]
  },
  {
   "attachments": {},
   "cell_type": "markdown",
   "metadata": {},
   "source": [
    "### **Training and testing split**"
   ]
  },
  {
   "cell_type": "code",
   "execution_count": 7,
   "metadata": {},
   "outputs": [
    {
     "name": "stdout",
     "output_type": "stream",
     "text": [
      "The X_train set is:\n",
      "     sepal length (cm)  sepal width (cm)\n",
      "84                 5.4               3.0\n",
      "148                6.2               3.4\n",
      "53                 5.5               2.3\n",
      "5                  5.4               3.9\n",
      "93                 5.0               2.3\n",
      "..                 ...               ...\n",
      "71                 6.1               2.8\n",
      "106                4.9               2.5\n",
      "14                 5.8               4.0\n",
      "92                 5.8               2.6\n",
      "102                7.1               3.0\n",
      "\n",
      "[75 rows x 2 columns]\n",
      "The X_test set is:\n",
      "     sepal length (cm)  sepal width (cm)\n",
      "73                 6.1               2.8\n",
      "18                 5.7               3.8\n",
      "118                7.7               2.6\n",
      "78                 6.0               2.9\n",
      "76                 6.8               2.8\n",
      "..                 ...               ...\n",
      "113                5.7               2.5\n",
      "33                 5.5               4.2\n",
      "138                6.0               3.0\n",
      "101                5.8               2.7\n",
      "62                 6.0               2.2\n",
      "\n",
      "[75 rows x 2 columns]\n",
      "The y_train set is:\n",
      "84     1\n",
      "148    2\n",
      "53     1\n",
      "5      0\n",
      "93     1\n",
      "      ..\n",
      "71     1\n",
      "106    2\n",
      "14     0\n",
      "92     1\n",
      "102    2\n",
      "Name: target, Length: 75, dtype: int32\n",
      "The y_test set is:\n",
      "73     1\n",
      "18     0\n",
      "118    2\n",
      "78     1\n",
      "76     1\n",
      "      ..\n",
      "113    2\n",
      "33     0\n",
      "138    2\n",
      "101    2\n",
      "62     1\n",
      "Name: target, Length: 75, dtype: int32\n"
     ]
    }
   ],
   "source": [
    "# training and testing sets\n",
    "from sklearn.model_selection import train_test_split\n",
    "X_train, X_test, y_train, y_test = train_test_split(X, y, test_size=0.5, shuffle=True, random_state=42)\n",
    "\n",
    "# Delete (?)\n",
    "print(\"The X_train set is:\")\n",
    "print(X_train)\n",
    "\n",
    "print(\"The X_test set is:\")\n",
    "print(X_test)\n",
    "\n",
    "print(\"The y_train set is:\")\n",
    "print(y_train)\n",
    "\n",
    "print(\"The y_test set is:\")\n",
    "print(y_test)"
   ]
  },
  {
   "attachments": {},
   "cell_type": "markdown",
   "metadata": {},
   "source": [
    "### **Training and testing the tree**"
   ]
  },
  {
   "cell_type": "code",
   "execution_count": 8,
   "metadata": {},
   "outputs": [
    {
     "name": "stdout",
     "output_type": "stream",
     "text": [
      "Accuracy based on depth: [64.0, 77.33, 78.67, 77.33, 77.33, 77.33, 72.0, 73.33, 73.33, 74.67, 70.67, 70.67, 70.67, 70.67, 70.67, 70.67, 70.67, 70.67, 70.67]\n",
      "Best Accuracy is: 78.67% and is achived at depth: 3\n"
     ]
    }
   ],
   "source": [
    "from sklearn import tree\n",
    "from sklearn import metrics\n",
    "\n",
    "# a list to hold the accuracies for different depths\n",
    "accuracy_list = list()\n",
    "\n",
    "# for each depth train a tree and compute the accuracy\n",
    "for depth in range(1, 20):\n",
    "  clf = tree.DecisionTreeClassifier(max_depth=depth, random_state=0)\n",
    "  clf = clf.fit(X_train, y_train)\n",
    "  y_pred = clf.predict(X_test)\n",
    "  accuracy = round(metrics.accuracy_score(y_test, y_pred) * 100, 2)\n",
    "  accuracy_list.append(accuracy)\n",
    "\n",
    "# print results\n",
    "accuracy_array = np.array(accuracy_list) # numpy array to make life easier\n",
    "print(f\"Accuracy based on depth: {accuracy_list}\")\n",
    "best_accuracy = max(accuracy_list)\n",
    "best_depth = np.argmax(accuracy_array) + 1\n",
    "print(f\"Best Accuracy is: {best_accuracy}% and is achived at depth: {best_depth}\")"
   ]
  },
  {
   "attachments": {},
   "cell_type": "markdown",
   "metadata": {},
   "source": [
    "### **Rebuild the tree with the best depth**"
   ]
  },
  {
   "cell_type": "code",
   "execution_count": 9,
   "metadata": {},
   "outputs": [
    {
     "data": {
      "image/png": "[encoded data removed]",
      "text/plain": [
       "<Figure size 640x480 with 1 Axes>"
      ]
     },
     "metadata": {},
     "output_type": "display_data"
    }
   ],
   "source": [
    "from sklearn import tree\n",
    "\n",
    "# train the tree\n",
    "clf = tree.DecisionTreeClassifier(max_depth=best_depth)\n",
    "clf = clf.fit(X_train, y_train)\n",
    "\n",
    "# vizualize the tree\n",
    "plt.figure()\n",
    "tree.plot_tree(clf, filled=True)\n",
    "plt.title(\"Decision tree trained on 50 percent of the iris features\")\n",
    "plt.show()"
   ]
  },
  {
   "attachments": {},
   "cell_type": "markdown",
   "metadata": {},
   "source": [
    "### **Prediction**"
   ]
  },
  {
   "cell_type": "code",
   "execution_count": 10,
   "metadata": {},
   "outputs": [],
   "source": [
    "# use the tree to make the classification on the test set\n",
    "y_pred = clf.predict(X_test)"
   ]
  },
  {
   "attachments": {},
   "cell_type": "markdown",
   "metadata": {},
   "source": [
    "### **Results**"
   ]
  },
  {
   "attachments": {},
   "cell_type": "markdown",
   "metadata": {},
   "source": [
    "**Accuracy**"
   ]
  },
  {
   "cell_type": "code",
   "execution_count": 11,
   "metadata": {},
   "outputs": [
    {
     "name": "stdout",
     "output_type": "stream",
     "text": [
      "Accuracy: 78.67%\n"
     ]
    }
   ],
   "source": [
    "# print(\"Accuracy:\", round(skl.metrics.accuracy_score(y_test, y_pred) * 100, 2), \"%\")\n",
    "print(f\"Accuracy: {best_accuracy}%\")"
   ]
  },
  {
   "attachments": {},
   "cell_type": "markdown",
   "metadata": {},
   "source": [
    "**Classification report**"
   ]
  },
  {
   "cell_type": "code",
   "execution_count": 12,
   "metadata": {},
   "outputs": [
    {
     "name": "stdout",
     "output_type": "stream",
     "text": [
      "              precision    recall  f1-score   support\n",
      "\n",
      "      setosa       1.00      0.97      0.98        29\n",
      "  versicolor       0.64      0.70      0.67        23\n",
      "   virginica       0.68      0.65      0.67        23\n",
      "\n",
      "    accuracy                           0.79        75\n",
      "   macro avg       0.77      0.77      0.77        75\n",
      "weighted avg       0.79      0.79      0.79        75\n",
      "\n"
     ]
    }
   ],
   "source": [
    "print(skl.metrics.classification_report(y_test, y_pred, target_names=dataset.target_names))"
   ]
  },
  {
   "attachments": {},
   "cell_type": "markdown",
   "metadata": {},
   "source": [
    "**Confusion matrix**"
   ]
  },
  {
   "cell_type": "code",
   "execution_count": 13,
   "metadata": {},
   "outputs": [
    {
     "name": "stdout",
     "output_type": "stream",
     "text": [
      "[28  1  0  0 16  7  0  8 15]\n"
     ]
    },
    {
     "data": {
      "image/png": "[encoded data removed]",
      "text/plain": [
       "<Figure size 640x480 with 2 Axes>"
      ]
     },
     "metadata": {},
     "output_type": "display_data"
    }
   ],
   "source": [
    "results = skl.metrics.confusion_matrix(y_test, y_pred, labels=clf.classes_).ravel()\n",
    "print(results)\n",
    "\n",
    "disp = skl.metrics.ConfusionMatrixDisplay.from_predictions(y_test, y_pred)"
   ]
  },
  {
   "cell_type": "code",
   "execution_count": 14,
   "metadata": {},
   "outputs": [],
   "source": [
    "# convert to numpy to make life easier\n",
    "X_data = pd.DataFrame.to_numpy(X_test)\n",
    "y_data = pd.Series.to_numpy(y_test)"
   ]
  },
  {
   "attachments": {},
   "cell_type": "markdown",
   "metadata": {},
   "source": [
    "### **Decision Boundaries**"
   ]
  },
  {
   "cell_type": "code",
   "execution_count": 15,
   "metadata": {},
   "outputs": [
    {
     "name": "stderr",
     "output_type": "stream",
     "text": [
      "c:\\Users\\Andreas Marios\\AppData\\Local\\Programs\\Python\\Python311\\Lib\\site-packages\\sklearn\\base.py:409: UserWarning: X does not have valid feature names, but DecisionTreeClassifier was fitted with feature names\n",
      "  warnings.warn(\n",
      "C:\\Users\\Andreas Marios\\AppData\\Local\\Temp\\ipykernel_19044\\695314837.py:33: UserWarning: The following kwargs were not used by contour: 'c_map'\n",
      "  cs = plt.contourf(xx, yy, Z, c_map=plt.cm.RdYlBu, alpha=0.3)\n"
     ]
    },
    {
     "data": {
      "text/plain": [
       "(3.3, 8.880000000000006, 1.0, 5.380000000000004)"
      ]
     },
     "execution_count": 15,
     "metadata": {},
     "output_type": "execute_result"
    },
    {
     "data": {
      "image/png": "[encoded data removed]",
      "text/plain": [
       "<Figure size 640x480 with 1 Axes>"
      ]
     },
     "metadata": {},
     "output_type": "display_data"
    }
   ],
   "source": [
    "# set the parameters\n",
    "h = 0.02    # setting a random step\n",
    "a = df.get(\"sepal length (cm)\")\n",
    "b = df.get(\"sepal width (cm)\")\n",
    "x_min, x_max = a.min() - 1, a.max() + 1\n",
    "y_min, y_max = b.min() - 1, b.max() + 1\n",
    "xx, yy = np.meshgrid(np.arange(x_min, x_max, h), np.arange(y_min, y_max, h))\n",
    "\n",
    "# Plot the decision boundary. For that, we will assign a color to each\n",
    "# point in the mesh [x_min, m_max]x[y_min, y_max].\n",
    "Z = clf.predict(np.c_[xx.ravel(), yy.ravel()])\n",
    "# Put the result into a color plot\n",
    "Z = Z.reshape(xx.shape)\n",
    "\n",
    "# Make the scatter plot\n",
    "color = \"white\"\n",
    "for i in range(len(y_data)):\n",
    "    # paint each point\n",
    "    if y_data[i] == 0:\n",
    "        color = \"red\"\n",
    "    elif y_data[i] == 1:\n",
    "        color = \"blue\"\n",
    "    else:\n",
    "        color = \"yellow\"\n",
    "    # plot each point\n",
    "    plt.scatter(X_data[i][0], X_data[i][1], color=color)\n",
    "# make the plot vizually beautiful\n",
    "plt.xlabel(\"sepal length (cm)\")\n",
    "plt.ylabel(\"sepal width (cm)\")\n",
    "plt.legend([\"virginica\", \"setosa\", \"versicolor\"])\n",
    "\n",
    "# plot the decision boundary\n",
    "cs = plt.contourf(xx, yy, Z, c_map=plt.cm.RdYlBu, alpha=0.3)\n",
    "plt.axis('tight')\n",
    "\n"
   ]
  },
  {
   "attachments": {},
   "cell_type": "markdown",
   "metadata": {},
   "source": [
    "# **Part B**"
   ]
  },
  {
   "cell_type": "code",
   "execution_count": 16,
   "metadata": {},
   "outputs": [],
   "source": [
    "# Converting X_train dataset (A) from pandas DataFrame to numpy array\n",
    "X_train_data = pd.DataFrame.to_numpy(X_train)\n",
    "y_train_data = pd.Series.to_numpy(y_train)"
   ]
  },
  {
   "attachments": {},
   "cell_type": "markdown",
   "metadata": {},
   "source": [
    "### **Bootstrap**"
   ]
  },
  {
   "cell_type": "code",
   "execution_count": 113,
   "metadata": {},
   "outputs": [],
   "source": [
    "# Bootstrap method\n",
    "samples = [] # the placeholder for the 100 samples?????????????????????\n",
    "samp_num = 100 # number of bootstraped samples\n",
    "gamma = 0.5 # γ = 50%\n",
    "\n",
    "x_train_list = list() # the placeholder for the 100 samples\n",
    "y_train_list = list() # the placeholder for the 100 samples\n",
    "# x_test_list = list() # ???????????????????????\n",
    "# y_test_list = list() # ???????????????????????\n",
    "\n",
    "for i in range(samp_num):\n",
    "  X_tr, X_t, y_tr, y_t = train_test_split(X_train, y_train, test_size=gamma, shuffle=True, random_state=i)\n",
    "  x_train_list.append(X_tr)\n",
    "  # x_test_list.append(X_t)?????????????????\n",
    "  y_train_list.append(y_tr)\n",
    "  # y_test_list.append(y_t)?????????????????\n"
   ]
  },
  {
   "attachments": {},
   "cell_type": "markdown",
   "metadata": {},
   "source": [
    "### **Random forest**"
   ]
  },
  {
   "cell_type": "code",
   "execution_count": 114,
   "metadata": {},
   "outputs": [],
   "source": [
    "# Random best depth\n",
    "best_depth = 5\n",
    "y_prediction_list = list()\n",
    "\n",
    "# Creating the random forest (100 trees)\n",
    "for i in range(samp_num):\n",
    "    clf = tree.DecisionTreeClassifier(max_depth=best_depth, random_state=42)\n",
    "    clf = clf.fit(x_train_list[i], y_train_list[i])\n",
    "    y_predict = clf.predict(X_test)\n",
    "    y_prediction_list.append(y_predict)"
   ]
  },
  {
   "cell_type": "code",
   "execution_count": 115,
   "metadata": {},
   "outputs": [],
   "source": [
    "# Collecting most frequent value for each corresponding x_test value\n",
    "frequent_predictions = list()\n",
    "\n",
    "for column in range(len(y_prediction_list[0])):\n",
    "    temp_list = list()\n",
    "    for row in range(len(y_prediction_list)):\n",
    "        temp_list.append(y_prediction_list[row][column])\n",
    "    frequent_predictions.append(temp_list)\n",
    "\n",
    "predicted_values_list = list()\n",
    "# predicted_values = np.array(predicted_values_list)\n",
    "\n",
    "# Calculating the most frequent values\n",
    "for i in range(len(frequent_predictions)):\n",
    "    temp = np.bincount(frequent_predictions[i]).argmax()\n",
    "    # print(temp)\n",
    "    predicted_values_list.append(temp)"
   ]
  },
  {
   "attachments": {},
   "cell_type": "markdown",
   "metadata": {},
   "source": [
    "### **Random forest accuracy**"
   ]
  },
  {
   "cell_type": "code",
   "execution_count": 116,
   "metadata": {},
   "outputs": [
    {
     "name": "stdout",
     "output_type": "stream",
     "text": [
      "Accuracy: 80.0%\n"
     ]
    }
   ],
   "source": [
    "accuracy = round(metrics.accuracy_score(y_test, predicted_values_list) * 100, 2)\n",
    "print(f\"Accuracy: {accuracy}%\")"
   ]
  },
  {
   "attachments": {},
   "cell_type": "markdown",
   "metadata": {},
   "source": [
    "### **Confusion matrix**"
   ]
  },
  {
   "cell_type": "code",
   "execution_count": 21,
   "metadata": {},
   "outputs": [
    {
     "name": "stdout",
     "output_type": "stream",
     "text": [
      "[28  1  0  0 16  7  0  7 16]\n"
     ]
    },
    {
     "data": {
      "image/png": "[encoded data removed]",
      "text/plain": [
       "<Figure size 640x480 with 2 Axes>"
      ]
     },
     "metadata": {},
     "output_type": "display_data"
    }
   ],
   "source": [
    "results = skl.metrics.confusion_matrix(y_test, predicted_values_list).ravel()\n",
    "print(results)\n",
    "\n",
    "disp = skl.metrics.ConfusionMatrixDisplay.from_predictions(y_test, predicted_values_list)"
   ]
  },
  {
   "attachments": {},
   "cell_type": "markdown",
   "metadata": {},
   "source": [
    "### **Decision Boundaries**"
   ]
  },
  {
   "cell_type": "code",
   "execution_count": 22,
   "metadata": {},
   "outputs": [
    {
     "name": "stderr",
     "output_type": "stream",
     "text": [
      "c:\\Users\\Andreas Marios\\AppData\\Local\\Programs\\Python\\Python311\\Lib\\site-packages\\sklearn\\base.py:409: UserWarning: X does not have valid feature names, but DecisionTreeClassifier was fitted with feature names\n",
      "  warnings.warn(\n",
      "C:\\Users\\Andreas Marios\\AppData\\Local\\Temp\\ipykernel_19044\\2807062296.py:18: UserWarning: The following kwargs were not used by contour: 'c_map'\n",
      "  plt.contourf(xx, yy, z_axis, c_map=plt.cm.RdYlBu, alpha=0.1)\n",
      "c:\\Users\\Andreas Marios\\AppData\\Local\\Programs\\Python\\Python311\\Lib\\site-packages\\sklearn\\base.py:409: UserWarning: X does not have valid feature names, but DecisionTreeClassifier was fitted with feature names\n",
      "  warnings.warn(\n",
      "C:\\Users\\Andreas Marios\\AppData\\Local\\Temp\\ipykernel_19044\\2807062296.py:18: UserWarning: The following kwargs were not used by contour: 'c_map'\n",
      "  plt.contourf(xx, yy, z_axis, c_map=plt.cm.RdYlBu, alpha=0.1)\n",
      "c:\\Users\\Andreas Marios\\AppData\\Local\\Programs\\Python\\Python311\\Lib\\site-packages\\sklearn\\base.py:409: UserWarning: X does not have valid feature names, but DecisionTreeClassifier was fitted with feature names\n",
      "  warnings.warn(\n",
      "C:\\Users\\Andreas Marios\\AppData\\Local\\Temp\\ipykernel_19044\\2807062296.py:18: UserWarning: The following kwargs were not used by contour: 'c_map'\n",
      "  plt.contourf(xx, yy, z_axis, c_map=plt.cm.RdYlBu, alpha=0.1)\n",
      "c:\\Users\\Andreas Marios\\AppData\\Local\\Programs\\Python\\Python311\\Lib\\site-packages\\sklearn\\base.py:409: UserWarning: X does not have valid feature names, but DecisionTreeClassifier was fitted with feature names\n",
      "  warnings.warn(\n",
      "C:\\Users\\Andreas Marios\\AppData\\Local\\Temp\\ipykernel_19044\\2807062296.py:18: UserWarning: The following kwargs were not used by contour: 'c_map'\n",
      "  plt.contourf(xx, yy, z_axis, c_map=plt.cm.RdYlBu, alpha=0.1)\n",
      "c:\\Users\\Andreas Marios\\AppData\\Local\\Programs\\Python\\Python311\\Lib\\site-packages\\sklearn\\base.py:409: UserWarning: X does not have valid feature names, but DecisionTreeClassifier was fitted with feature names\n",
      "  warnings.warn(\n",
      "C:\\Users\\Andreas Marios\\AppData\\Local\\Temp\\ipykernel_19044\\2807062296.py:18: UserWarning: The following kwargs were not used by contour: 'c_map'\n",
      "  plt.contourf(xx, yy, z_axis, c_map=plt.cm.RdYlBu, alpha=0.1)\n",
      "c:\\Users\\Andreas Marios\\AppData\\Local\\Programs\\Python\\Python311\\Lib\\site-packages\\sklearn\\base.py:409: UserWarning: X does not have valid feature names, but DecisionTreeClassifier was fitted with feature names\n",
      "  warnings.warn(\n",
      "C:\\Users\\Andreas Marios\\AppData\\Local\\Temp\\ipykernel_19044\\2807062296.py:18: UserWarning: The following kwargs were not used by contour: 'c_map'\n",
      "  plt.contourf(xx, yy, z_axis, c_map=plt.cm.RdYlBu, alpha=0.1)\n",
      "c:\\Users\\Andreas Marios\\AppData\\Local\\Programs\\Python\\Python311\\Lib\\site-packages\\sklearn\\base.py:409: UserWarning: X does not have valid feature names, but DecisionTreeClassifier was fitted with feature names\n",
      "  warnings.warn(\n",
      "C:\\Users\\Andreas Marios\\AppData\\Local\\Temp\\ipykernel_19044\\2807062296.py:18: UserWarning: The following kwargs were not used by contour: 'c_map'\n",
      "  plt.contourf(xx, yy, z_axis, c_map=plt.cm.RdYlBu, alpha=0.1)\n",
      "c:\\Users\\Andreas Marios\\AppData\\Local\\Programs\\Python\\Python311\\Lib\\site-packages\\sklearn\\base.py:409: UserWarning: X does not have valid feature names, but DecisionTreeClassifier was fitted with feature names\n",
      "  warnings.warn(\n",
      "C:\\Users\\Andreas Marios\\AppData\\Local\\Temp\\ipykernel_19044\\2807062296.py:18: UserWarning: The following kwargs were not used by contour: 'c_map'\n",
      "  plt.contourf(xx, yy, z_axis, c_map=plt.cm.RdYlBu, alpha=0.1)\n",
      "c:\\Users\\Andreas Marios\\AppData\\Local\\Programs\\Python\\Python311\\Lib\\site-packages\\sklearn\\base.py:409: UserWarning: X does not have valid feature names, but DecisionTreeClassifier was fitted with feature names\n",
      "  warnings.warn(\n",
      "C:\\Users\\Andreas Marios\\AppData\\Local\\Temp\\ipykernel_19044\\2807062296.py:18: UserWarning: The following kwargs were not used by contour: 'c_map'\n",
      "  plt.contourf(xx, yy, z_axis, c_map=plt.cm.RdYlBu, alpha=0.1)\n",
      "c:\\Users\\Andreas Marios\\AppData\\Local\\Programs\\Python\\Python311\\Lib\\site-packages\\sklearn\\base.py:409: UserWarning: X does not have valid feature names, but DecisionTreeClassifier was fitted with feature names\n",
      "  warnings.warn(\n",
      "C:\\Users\\Andreas Marios\\AppData\\Local\\Temp\\ipykernel_19044\\2807062296.py:18: UserWarning: The following kwargs were not used by contour: 'c_map'\n",
      "  plt.contourf(xx, yy, z_axis, c_map=plt.cm.RdYlBu, alpha=0.1)\n",
      "c:\\Users\\Andreas Marios\\AppData\\Local\\Programs\\Python\\Python311\\Lib\\site-packages\\sklearn\\base.py:409: UserWarning: X does not have valid feature names, but DecisionTreeClassifier was fitted with feature names\n",
      "  warnings.warn(\n",
      "C:\\Users\\Andreas Marios\\AppData\\Local\\Temp\\ipykernel_19044\\2807062296.py:18: UserWarning: The following kwargs were not used by contour: 'c_map'\n",
      "  plt.contourf(xx, yy, z_axis, c_map=plt.cm.RdYlBu, alpha=0.1)\n",
      "c:\\Users\\Andreas Marios\\AppData\\Local\\Programs\\Python\\Python311\\Lib\\site-packages\\sklearn\\base.py:409: UserWarning: X does not have valid feature names, but DecisionTreeClassifier was fitted with feature names\n",
      "  warnings.warn(\n",
      "C:\\Users\\Andreas Marios\\AppData\\Local\\Temp\\ipykernel_19044\\2807062296.py:18: UserWarning: The following kwargs were not used by contour: 'c_map'\n",
      "  plt.contourf(xx, yy, z_axis, c_map=plt.cm.RdYlBu, alpha=0.1)\n",
      "c:\\Users\\Andreas Marios\\AppData\\Local\\Programs\\Python\\Python311\\Lib\\site-packages\\sklearn\\base.py:409: UserWarning: X does not have valid feature names, but DecisionTreeClassifier was fitted with feature names\n",
      "  warnings.warn(\n",
      "C:\\Users\\Andreas Marios\\AppData\\Local\\Temp\\ipykernel_19044\\2807062296.py:18: UserWarning: The following kwargs were not used by contour: 'c_map'\n",
      "  plt.contourf(xx, yy, z_axis, c_map=plt.cm.RdYlBu, alpha=0.1)\n",
      "c:\\Users\\Andreas Marios\\AppData\\Local\\Programs\\Python\\Python311\\Lib\\site-packages\\sklearn\\base.py:409: UserWarning: X does not have valid feature names, but DecisionTreeClassifier was fitted with feature names\n",
      "  warnings.warn(\n",
      "C:\\Users\\Andreas Marios\\AppData\\Local\\Temp\\ipykernel_19044\\2807062296.py:18: UserWarning: The following kwargs were not used by contour: 'c_map'\n",
      "  plt.contourf(xx, yy, z_axis, c_map=plt.cm.RdYlBu, alpha=0.1)\n",
      "c:\\Users\\Andreas Marios\\AppData\\Local\\Programs\\Python\\Python311\\Lib\\site-packages\\sklearn\\base.py:409: UserWarning: X does not have valid feature names, but DecisionTreeClassifier was fitted with feature names\n",
      "  warnings.warn(\n",
      "C:\\Users\\Andreas Marios\\AppData\\Local\\Temp\\ipykernel_19044\\2807062296.py:18: UserWarning: The following kwargs were not used by contour: 'c_map'\n",
      "  plt.contourf(xx, yy, z_axis, c_map=plt.cm.RdYlBu, alpha=0.1)\n",
      "c:\\Users\\Andreas Marios\\AppData\\Local\\Programs\\Python\\Python311\\Lib\\site-packages\\sklearn\\base.py:409: UserWarning: X does not have valid feature names, but DecisionTreeClassifier was fitted with feature names\n",
      "  warnings.warn(\n",
      "C:\\Users\\Andreas Marios\\AppData\\Local\\Temp\\ipykernel_19044\\2807062296.py:18: UserWarning: The following kwargs were not used by contour: 'c_map'\n",
      "  plt.contourf(xx, yy, z_axis, c_map=plt.cm.RdYlBu, alpha=0.1)\n",
      "c:\\Users\\Andreas Marios\\AppData\\Local\\Programs\\Python\\Python311\\Lib\\site-packages\\sklearn\\base.py:409: UserWarning: X does not have valid feature names, but DecisionTreeClassifier was fitted with feature names\n",
      "  warnings.warn(\n",
      "C:\\Users\\Andreas Marios\\AppData\\Local\\Temp\\ipykernel_19044\\2807062296.py:18: UserWarning: The following kwargs were not used by contour: 'c_map'\n",
      "  plt.contourf(xx, yy, z_axis, c_map=plt.cm.RdYlBu, alpha=0.1)\n",
      "c:\\Users\\Andreas Marios\\AppData\\Local\\Programs\\Python\\Python311\\Lib\\site-packages\\sklearn\\base.py:409: UserWarning: X does not have valid feature names, but DecisionTreeClassifier was fitted with feature names\n",
      "  warnings.warn(\n",
      "C:\\Users\\Andreas Marios\\AppData\\Local\\Temp\\ipykernel_19044\\2807062296.py:18: UserWarning: The following kwargs were not used by contour: 'c_map'\n",
      "  plt.contourf(xx, yy, z_axis, c_map=plt.cm.RdYlBu, alpha=0.1)\n",
      "c:\\Users\\Andreas Marios\\AppData\\Local\\Programs\\Python\\Python311\\Lib\\site-packages\\sklearn\\base.py:409: UserWarning: X does not have valid feature names, but DecisionTreeClassifier was fitted with feature names\n",
      "  warnings.warn(\n",
      "C:\\Users\\Andreas Marios\\AppData\\Local\\Temp\\ipykernel_19044\\2807062296.py:18: UserWarning: The following kwargs were not used by contour: 'c_map'\n",
      "  plt.contourf(xx, yy, z_axis, c_map=plt.cm.RdYlBu, alpha=0.1)\n",
      "c:\\Users\\Andreas Marios\\AppData\\Local\\Programs\\Python\\Python311\\Lib\\site-packages\\sklearn\\base.py:409: UserWarning: X does not have valid feature names, but DecisionTreeClassifier was fitted with feature names\n",
      "  warnings.warn(\n",
      "C:\\Users\\Andreas Marios\\AppData\\Local\\Temp\\ipykernel_19044\\2807062296.py:18: UserWarning: The following kwargs were not used by contour: 'c_map'\n",
      "  plt.contourf(xx, yy, z_axis, c_map=plt.cm.RdYlBu, alpha=0.1)\n",
      "c:\\Users\\Andreas Marios\\AppData\\Local\\Programs\\Python\\Python311\\Lib\\site-packages\\sklearn\\base.py:409: UserWarning: X does not have valid feature names, but DecisionTreeClassifier was fitted with feature names\n",
      "  warnings.warn(\n",
      "C:\\Users\\Andreas Marios\\AppData\\Local\\Temp\\ipykernel_19044\\2807062296.py:18: UserWarning: The following kwargs were not used by contour: 'c_map'\n",
      "  plt.contourf(xx, yy, z_axis, c_map=plt.cm.RdYlBu, alpha=0.1)\n",
      "c:\\Users\\Andreas Marios\\AppData\\Local\\Programs\\Python\\Python311\\Lib\\site-packages\\sklearn\\base.py:409: UserWarning: X does not have valid feature names, but DecisionTreeClassifier was fitted with feature names\n",
      "  warnings.warn(\n",
      "C:\\Users\\Andreas Marios\\AppData\\Local\\Temp\\ipykernel_19044\\2807062296.py:18: UserWarning: The following kwargs were not used by contour: 'c_map'\n",
      "  plt.contourf(xx, yy, z_axis, c_map=plt.cm.RdYlBu, alpha=0.1)\n",
      "c:\\Users\\Andreas Marios\\AppData\\Local\\Programs\\Python\\Python311\\Lib\\site-packages\\sklearn\\base.py:409: UserWarning: X does not have valid feature names, but DecisionTreeClassifier was fitted with feature names\n",
      "  warnings.warn(\n",
      "C:\\Users\\Andreas Marios\\AppData\\Local\\Temp\\ipykernel_19044\\2807062296.py:18: UserWarning: The following kwargs were not used by contour: 'c_map'\n",
      "  plt.contourf(xx, yy, z_axis, c_map=plt.cm.RdYlBu, alpha=0.1)\n",
      "c:\\Users\\Andreas Marios\\AppData\\Local\\Programs\\Python\\Python311\\Lib\\site-packages\\sklearn\\base.py:409: UserWarning: X does not have valid feature names, but DecisionTreeClassifier was fitted with feature names\n",
      "  warnings.warn(\n",
      "C:\\Users\\Andreas Marios\\AppData\\Local\\Temp\\ipykernel_19044\\2807062296.py:18: UserWarning: The following kwargs were not used by contour: 'c_map'\n",
      "  plt.contourf(xx, yy, z_axis, c_map=plt.cm.RdYlBu, alpha=0.1)\n",
      "c:\\Users\\Andreas Marios\\AppData\\Local\\Programs\\Python\\Python311\\Lib\\site-packages\\sklearn\\base.py:409: UserWarning: X does not have valid feature names, but DecisionTreeClassifier was fitted with feature names\n",
      "  warnings.warn(\n",
      "C:\\Users\\Andreas Marios\\AppData\\Local\\Temp\\ipykernel_19044\\2807062296.py:18: UserWarning: The following kwargs were not used by contour: 'c_map'\n",
      "  plt.contourf(xx, yy, z_axis, c_map=plt.cm.RdYlBu, alpha=0.1)\n",
      "c:\\Users\\Andreas Marios\\AppData\\Local\\Programs\\Python\\Python311\\Lib\\site-packages\\sklearn\\base.py:409: UserWarning: X does not have valid feature names, but DecisionTreeClassifier was fitted with feature names\n",
      "  warnings.warn(\n",
      "C:\\Users\\Andreas Marios\\AppData\\Local\\Temp\\ipykernel_19044\\2807062296.py:18: UserWarning: The following kwargs were not used by contour: 'c_map'\n",
      "  plt.contourf(xx, yy, z_axis, c_map=plt.cm.RdYlBu, alpha=0.1)\n",
      "c:\\Users\\Andreas Marios\\AppData\\Local\\Programs\\Python\\Python311\\Lib\\site-packages\\sklearn\\base.py:409: UserWarning: X does not have valid feature names, but DecisionTreeClassifier was fitted with feature names\n",
      "  warnings.warn(\n",
      "C:\\Users\\Andreas Marios\\AppData\\Local\\Temp\\ipykernel_19044\\2807062296.py:18: UserWarning: The following kwargs were not used by contour: 'c_map'\n",
      "  plt.contourf(xx, yy, z_axis, c_map=plt.cm.RdYlBu, alpha=0.1)\n",
      "c:\\Users\\Andreas Marios\\AppData\\Local\\Programs\\Python\\Python311\\Lib\\site-packages\\sklearn\\base.py:409: UserWarning: X does not have valid feature names, but DecisionTreeClassifier was fitted with feature names\n",
      "  warnings.warn(\n",
      "C:\\Users\\Andreas Marios\\AppData\\Local\\Temp\\ipykernel_19044\\2807062296.py:18: UserWarning: The following kwargs were not used by contour: 'c_map'\n",
      "  plt.contourf(xx, yy, z_axis, c_map=plt.cm.RdYlBu, alpha=0.1)\n",
      "c:\\Users\\Andreas Marios\\AppData\\Local\\Programs\\Python\\Python311\\Lib\\site-packages\\sklearn\\base.py:409: UserWarning: X does not have valid feature names, but DecisionTreeClassifier was fitted with feature names\n",
      "  warnings.warn(\n",
      "C:\\Users\\Andreas Marios\\AppData\\Local\\Temp\\ipykernel_19044\\2807062296.py:18: UserWarning: The following kwargs were not used by contour: 'c_map'\n",
      "  plt.contourf(xx, yy, z_axis, c_map=plt.cm.RdYlBu, alpha=0.1)\n",
      "c:\\Users\\Andreas Marios\\AppData\\Local\\Programs\\Python\\Python311\\Lib\\site-packages\\sklearn\\base.py:409: UserWarning: X does not have valid feature names, but DecisionTreeClassifier was fitted with feature names\n",
      "  warnings.warn(\n",
      "C:\\Users\\Andreas Marios\\AppData\\Local\\Temp\\ipykernel_19044\\2807062296.py:18: UserWarning: The following kwargs were not used by contour: 'c_map'\n",
      "  plt.contourf(xx, yy, z_axis, c_map=plt.cm.RdYlBu, alpha=0.1)\n",
      "c:\\Users\\Andreas Marios\\AppData\\Local\\Programs\\Python\\Python311\\Lib\\site-packages\\sklearn\\base.py:409: UserWarning: X does not have valid feature names, but DecisionTreeClassifier was fitted with feature names\n",
      "  warnings.warn(\n",
      "C:\\Users\\Andreas Marios\\AppData\\Local\\Temp\\ipykernel_19044\\2807062296.py:18: UserWarning: The following kwargs were not used by contour: 'c_map'\n",
      "  plt.contourf(xx, yy, z_axis, c_map=plt.cm.RdYlBu, alpha=0.1)\n",
      "c:\\Users\\Andreas Marios\\AppData\\Local\\Programs\\Python\\Python311\\Lib\\site-packages\\sklearn\\base.py:409: UserWarning: X does not have valid feature names, but DecisionTreeClassifier was fitted with feature names\n",
      "  warnings.warn(\n",
      "C:\\Users\\Andreas Marios\\AppData\\Local\\Temp\\ipykernel_19044\\2807062296.py:18: UserWarning: The following kwargs were not used by contour: 'c_map'\n",
      "  plt.contourf(xx, yy, z_axis, c_map=plt.cm.RdYlBu, alpha=0.1)\n",
      "c:\\Users\\Andreas Marios\\AppData\\Local\\Programs\\Python\\Python311\\Lib\\site-packages\\sklearn\\base.py:409: UserWarning: X does not have valid feature names, but DecisionTreeClassifier was fitted with feature names\n",
      "  warnings.warn(\n",
      "C:\\Users\\Andreas Marios\\AppData\\Local\\Temp\\ipykernel_19044\\2807062296.py:18: UserWarning: The following kwargs were not used by contour: 'c_map'\n",
      "  plt.contourf(xx, yy, z_axis, c_map=plt.cm.RdYlBu, alpha=0.1)\n",
      "c:\\Users\\Andreas Marios\\AppData\\Local\\Programs\\Python\\Python311\\Lib\\site-packages\\sklearn\\base.py:409: UserWarning: X does not have valid feature names, but DecisionTreeClassifier was fitted with feature names\n",
      "  warnings.warn(\n",
      "C:\\Users\\Andreas Marios\\AppData\\Local\\Temp\\ipykernel_19044\\2807062296.py:18: UserWarning: The following kwargs were not used by contour: 'c_map'\n",
      "  plt.contourf(xx, yy, z_axis, c_map=plt.cm.RdYlBu, alpha=0.1)\n",
      "c:\\Users\\Andreas Marios\\AppData\\Local\\Programs\\Python\\Python311\\Lib\\site-packages\\sklearn\\base.py:409: UserWarning: X does not have valid feature names, but DecisionTreeClassifier was fitted with feature names\n",
      "  warnings.warn(\n",
      "C:\\Users\\Andreas Marios\\AppData\\Local\\Temp\\ipykernel_19044\\2807062296.py:18: UserWarning: The following kwargs were not used by contour: 'c_map'\n",
      "  plt.contourf(xx, yy, z_axis, c_map=plt.cm.RdYlBu, alpha=0.1)\n",
      "c:\\Users\\Andreas Marios\\AppData\\Local\\Programs\\Python\\Python311\\Lib\\site-packages\\sklearn\\base.py:409: UserWarning: X does not have valid feature names, but DecisionTreeClassifier was fitted with feature names\n",
      "  warnings.warn(\n",
      "C:\\Users\\Andreas Marios\\AppData\\Local\\Temp\\ipykernel_19044\\2807062296.py:18: UserWarning: The following kwargs were not used by contour: 'c_map'\n",
      "  plt.contourf(xx, yy, z_axis, c_map=plt.cm.RdYlBu, alpha=0.1)\n",
      "c:\\Users\\Andreas Marios\\AppData\\Local\\Programs\\Python\\Python311\\Lib\\site-packages\\sklearn\\base.py:409: UserWarning: X does not have valid feature names, but DecisionTreeClassifier was fitted with feature names\n",
      "  warnings.warn(\n",
      "C:\\Users\\Andreas Marios\\AppData\\Local\\Temp\\ipykernel_19044\\2807062296.py:18: UserWarning: The following kwargs were not used by contour: 'c_map'\n",
      "  plt.contourf(xx, yy, z_axis, c_map=plt.cm.RdYlBu, alpha=0.1)\n",
      "c:\\Users\\Andreas Marios\\AppData\\Local\\Programs\\Python\\Python311\\Lib\\site-packages\\sklearn\\base.py:409: UserWarning: X does not have valid feature names, but DecisionTreeClassifier was fitted with feature names\n",
      "  warnings.warn(\n",
      "C:\\Users\\Andreas Marios\\AppData\\Local\\Temp\\ipykernel_19044\\2807062296.py:18: UserWarning: The following kwargs were not used by contour: 'c_map'\n",
      "  plt.contourf(xx, yy, z_axis, c_map=plt.cm.RdYlBu, alpha=0.1)\n",
      "c:\\Users\\Andreas Marios\\AppData\\Local\\Programs\\Python\\Python311\\Lib\\site-packages\\sklearn\\base.py:409: UserWarning: X does not have valid feature names, but DecisionTreeClassifier was fitted with feature names\n",
      "  warnings.warn(\n",
      "C:\\Users\\Andreas Marios\\AppData\\Local\\Temp\\ipykernel_19044\\2807062296.py:18: UserWarning: The following kwargs were not used by contour: 'c_map'\n",
      "  plt.contourf(xx, yy, z_axis, c_map=plt.cm.RdYlBu, alpha=0.1)\n",
      "c:\\Users\\Andreas Marios\\AppData\\Local\\Programs\\Python\\Python311\\Lib\\site-packages\\sklearn\\base.py:409: UserWarning: X does not have valid feature names, but DecisionTreeClassifier was fitted with feature names\n",
      "  warnings.warn(\n",
      "C:\\Users\\Andreas Marios\\AppData\\Local\\Temp\\ipykernel_19044\\2807062296.py:18: UserWarning: The following kwargs were not used by contour: 'c_map'\n",
      "  plt.contourf(xx, yy, z_axis, c_map=plt.cm.RdYlBu, alpha=0.1)\n",
      "c:\\Users\\Andreas Marios\\AppData\\Local\\Programs\\Python\\Python311\\Lib\\site-packages\\sklearn\\base.py:409: UserWarning: X does not have valid feature names, but DecisionTreeClassifier was fitted with feature names\n",
      "  warnings.warn(\n",
      "C:\\Users\\Andreas Marios\\AppData\\Local\\Temp\\ipykernel_19044\\2807062296.py:18: UserWarning: The following kwargs were not used by contour: 'c_map'\n",
      "  plt.contourf(xx, yy, z_axis, c_map=plt.cm.RdYlBu, alpha=0.1)\n",
      "c:\\Users\\Andreas Marios\\AppData\\Local\\Programs\\Python\\Python311\\Lib\\site-packages\\sklearn\\base.py:409: UserWarning: X does not have valid feature names, but DecisionTreeClassifier was fitted with feature names\n",
      "  warnings.warn(\n",
      "C:\\Users\\Andreas Marios\\AppData\\Local\\Temp\\ipykernel_19044\\2807062296.py:18: UserWarning: The following kwargs were not used by contour: 'c_map'\n",
      "  plt.contourf(xx, yy, z_axis, c_map=plt.cm.RdYlBu, alpha=0.1)\n",
      "c:\\Users\\Andreas Marios\\AppData\\Local\\Programs\\Python\\Python311\\Lib\\site-packages\\sklearn\\base.py:409: UserWarning: X does not have valid feature names, but DecisionTreeClassifier was fitted with feature names\n",
      "  warnings.warn(\n",
      "C:\\Users\\Andreas Marios\\AppData\\Local\\Temp\\ipykernel_19044\\2807062296.py:18: UserWarning: The following kwargs were not used by contour: 'c_map'\n",
      "  plt.contourf(xx, yy, z_axis, c_map=plt.cm.RdYlBu, alpha=0.1)\n",
      "c:\\Users\\Andreas Marios\\AppData\\Local\\Programs\\Python\\Python311\\Lib\\site-packages\\sklearn\\base.py:409: UserWarning: X does not have valid feature names, but DecisionTreeClassifier was fitted with feature names\n",
      "  warnings.warn(\n",
      "C:\\Users\\Andreas Marios\\AppData\\Local\\Temp\\ipykernel_19044\\2807062296.py:18: UserWarning: The following kwargs were not used by contour: 'c_map'\n",
      "  plt.contourf(xx, yy, z_axis, c_map=plt.cm.RdYlBu, alpha=0.1)\n",
      "c:\\Users\\Andreas Marios\\AppData\\Local\\Programs\\Python\\Python311\\Lib\\site-packages\\sklearn\\base.py:409: UserWarning: X does not have valid feature names, but DecisionTreeClassifier was fitted with feature names\n",
      "  warnings.warn(\n",
      "C:\\Users\\Andreas Marios\\AppData\\Local\\Temp\\ipykernel_19044\\2807062296.py:18: UserWarning: The following kwargs were not used by contour: 'c_map'\n",
      "  plt.contourf(xx, yy, z_axis, c_map=plt.cm.RdYlBu, alpha=0.1)\n",
      "c:\\Users\\Andreas Marios\\AppData\\Local\\Programs\\Python\\Python311\\Lib\\site-packages\\sklearn\\base.py:409: UserWarning: X does not have valid feature names, but DecisionTreeClassifier was fitted with feature names\n",
      "  warnings.warn(\n",
      "C:\\Users\\Andreas Marios\\AppData\\Local\\Temp\\ipykernel_19044\\2807062296.py:18: UserWarning: The following kwargs were not used by contour: 'c_map'\n",
      "  plt.contourf(xx, yy, z_axis, c_map=plt.cm.RdYlBu, alpha=0.1)\n",
      "c:\\Users\\Andreas Marios\\AppData\\Local\\Programs\\Python\\Python311\\Lib\\site-packages\\sklearn\\base.py:409: UserWarning: X does not have valid feature names, but DecisionTreeClassifier was fitted with feature names\n",
      "  warnings.warn(\n",
      "C:\\Users\\Andreas Marios\\AppData\\Local\\Temp\\ipykernel_19044\\2807062296.py:18: UserWarning: The following kwargs were not used by contour: 'c_map'\n",
      "  plt.contourf(xx, yy, z_axis, c_map=plt.cm.RdYlBu, alpha=0.1)\n",
      "c:\\Users\\Andreas Marios\\AppData\\Local\\Programs\\Python\\Python311\\Lib\\site-packages\\sklearn\\base.py:409: UserWarning: X does not have valid feature names, but DecisionTreeClassifier was fitted with feature names\n",
      "  warnings.warn(\n",
      "C:\\Users\\Andreas Marios\\AppData\\Local\\Temp\\ipykernel_19044\\2807062296.py:18: UserWarning: The following kwargs were not used by contour: 'c_map'\n",
      "  plt.contourf(xx, yy, z_axis, c_map=plt.cm.RdYlBu, alpha=0.1)\n",
      "c:\\Users\\Andreas Marios\\AppData\\Local\\Programs\\Python\\Python311\\Lib\\site-packages\\sklearn\\base.py:409: UserWarning: X does not have valid feature names, but DecisionTreeClassifier was fitted with feature names\n",
      "  warnings.warn(\n",
      "C:\\Users\\Andreas Marios\\AppData\\Local\\Temp\\ipykernel_19044\\2807062296.py:18: UserWarning: The following kwargs were not used by contour: 'c_map'\n",
      "  plt.contourf(xx, yy, z_axis, c_map=plt.cm.RdYlBu, alpha=0.1)\n",
      "c:\\Users\\Andreas Marios\\AppData\\Local\\Programs\\Python\\Python311\\Lib\\site-packages\\sklearn\\base.py:409: UserWarning: X does not have valid feature names, but DecisionTreeClassifier was fitted with feature names\n",
      "  warnings.warn(\n",
      "C:\\Users\\Andreas Marios\\AppData\\Local\\Temp\\ipykernel_19044\\2807062296.py:18: UserWarning: The following kwargs were not used by contour: 'c_map'\n",
      "  plt.contourf(xx, yy, z_axis, c_map=plt.cm.RdYlBu, alpha=0.1)\n",
      "c:\\Users\\Andreas Marios\\AppData\\Local\\Programs\\Python\\Python311\\Lib\\site-packages\\sklearn\\base.py:409: UserWarning: X does not have valid feature names, but DecisionTreeClassifier was fitted with feature names\n",
      "  warnings.warn(\n",
      "C:\\Users\\Andreas Marios\\AppData\\Local\\Temp\\ipykernel_19044\\2807062296.py:18: UserWarning: The following kwargs were not used by contour: 'c_map'\n",
      "  plt.contourf(xx, yy, z_axis, c_map=plt.cm.RdYlBu, alpha=0.1)\n",
      "c:\\Users\\Andreas Marios\\AppData\\Local\\Programs\\Python\\Python311\\Lib\\site-packages\\sklearn\\base.py:409: UserWarning: X does not have valid feature names, but DecisionTreeClassifier was fitted with feature names\n",
      "  warnings.warn(\n",
      "C:\\Users\\Andreas Marios\\AppData\\Local\\Temp\\ipykernel_19044\\2807062296.py:18: UserWarning: The following kwargs were not used by contour: 'c_map'\n",
      "  plt.contourf(xx, yy, z_axis, c_map=plt.cm.RdYlBu, alpha=0.1)\n",
      "c:\\Users\\Andreas Marios\\AppData\\Local\\Programs\\Python\\Python311\\Lib\\site-packages\\sklearn\\base.py:409: UserWarning: X does not have valid feature names, but DecisionTreeClassifier was fitted with feature names\n",
      "  warnings.warn(\n",
      "C:\\Users\\Andreas Marios\\AppData\\Local\\Temp\\ipykernel_19044\\2807062296.py:18: UserWarning: The following kwargs were not used by contour: 'c_map'\n",
      "  plt.contourf(xx, yy, z_axis, c_map=plt.cm.RdYlBu, alpha=0.1)\n",
      "c:\\Users\\Andreas Marios\\AppData\\Local\\Programs\\Python\\Python311\\Lib\\site-packages\\sklearn\\base.py:409: UserWarning: X does not have valid feature names, but DecisionTreeClassifier was fitted with feature names\n",
      "  warnings.warn(\n",
      "C:\\Users\\Andreas Marios\\AppData\\Local\\Temp\\ipykernel_19044\\2807062296.py:18: UserWarning: The following kwargs were not used by contour: 'c_map'\n",
      "  plt.contourf(xx, yy, z_axis, c_map=plt.cm.RdYlBu, alpha=0.1)\n",
      "c:\\Users\\Andreas Marios\\AppData\\Local\\Programs\\Python\\Python311\\Lib\\site-packages\\sklearn\\base.py:409: UserWarning: X does not have valid feature names, but DecisionTreeClassifier was fitted with feature names\n",
      "  warnings.warn(\n",
      "C:\\Users\\Andreas Marios\\AppData\\Local\\Temp\\ipykernel_19044\\2807062296.py:18: UserWarning: The following kwargs were not used by contour: 'c_map'\n",
      "  plt.contourf(xx, yy, z_axis, c_map=plt.cm.RdYlBu, alpha=0.1)\n",
      "c:\\Users\\Andreas Marios\\AppData\\Local\\Programs\\Python\\Python311\\Lib\\site-packages\\sklearn\\base.py:409: UserWarning: X does not have valid feature names, but DecisionTreeClassifier was fitted with feature names\n",
      "  warnings.warn(\n",
      "C:\\Users\\Andreas Marios\\AppData\\Local\\Temp\\ipykernel_19044\\2807062296.py:18: UserWarning: The following kwargs were not used by contour: 'c_map'\n",
      "  plt.contourf(xx, yy, z_axis, c_map=plt.cm.RdYlBu, alpha=0.1)\n",
      "c:\\Users\\Andreas Marios\\AppData\\Local\\Programs\\Python\\Python311\\Lib\\site-packages\\sklearn\\base.py:409: UserWarning: X does not have valid feature names, but DecisionTreeClassifier was fitted with feature names\n",
      "  warnings.warn(\n",
      "C:\\Users\\Andreas Marios\\AppData\\Local\\Temp\\ipykernel_19044\\2807062296.py:18: UserWarning: The following kwargs were not used by contour: 'c_map'\n",
      "  plt.contourf(xx, yy, z_axis, c_map=plt.cm.RdYlBu, alpha=0.1)\n",
      "c:\\Users\\Andreas Marios\\AppData\\Local\\Programs\\Python\\Python311\\Lib\\site-packages\\sklearn\\base.py:409: UserWarning: X does not have valid feature names, but DecisionTreeClassifier was fitted with feature names\n",
      "  warnings.warn(\n",
      "C:\\Users\\Andreas Marios\\AppData\\Local\\Temp\\ipykernel_19044\\2807062296.py:18: UserWarning: The following kwargs were not used by contour: 'c_map'\n",
      "  plt.contourf(xx, yy, z_axis, c_map=plt.cm.RdYlBu, alpha=0.1)\n",
      "c:\\Users\\Andreas Marios\\AppData\\Local\\Programs\\Python\\Python311\\Lib\\site-packages\\sklearn\\base.py:409: UserWarning: X does not have valid feature names, but DecisionTreeClassifier was fitted with feature names\n",
      "  warnings.warn(\n",
      "C:\\Users\\Andreas Marios\\AppData\\Local\\Temp\\ipykernel_19044\\2807062296.py:18: UserWarning: The following kwargs were not used by contour: 'c_map'\n",
      "  plt.contourf(xx, yy, z_axis, c_map=plt.cm.RdYlBu, alpha=0.1)\n",
      "c:\\Users\\Andreas Marios\\AppData\\Local\\Programs\\Python\\Python311\\Lib\\site-packages\\sklearn\\base.py:409: UserWarning: X does not have valid feature names, but DecisionTreeClassifier was fitted with feature names\n",
      "  warnings.warn(\n",
      "C:\\Users\\Andreas Marios\\AppData\\Local\\Temp\\ipykernel_19044\\2807062296.py:18: UserWarning: The following kwargs were not used by contour: 'c_map'\n",
      "  plt.contourf(xx, yy, z_axis, c_map=plt.cm.RdYlBu, alpha=0.1)\n",
      "c:\\Users\\Andreas Marios\\AppData\\Local\\Programs\\Python\\Python311\\Lib\\site-packages\\sklearn\\base.py:409: UserWarning: X does not have valid feature names, but DecisionTreeClassifier was fitted with feature names\n",
      "  warnings.warn(\n",
      "C:\\Users\\Andreas Marios\\AppData\\Local\\Temp\\ipykernel_19044\\2807062296.py:18: UserWarning: The following kwargs were not used by contour: 'c_map'\n",
      "  plt.contourf(xx, yy, z_axis, c_map=plt.cm.RdYlBu, alpha=0.1)\n",
      "c:\\Users\\Andreas Marios\\AppData\\Local\\Programs\\Python\\Python311\\Lib\\site-packages\\sklearn\\base.py:409: UserWarning: X does not have valid feature names, but DecisionTreeClassifier was fitted with feature names\n",
      "  warnings.warn(\n",
      "C:\\Users\\Andreas Marios\\AppData\\Local\\Temp\\ipykernel_19044\\2807062296.py:18: UserWarning: The following kwargs were not used by contour: 'c_map'\n",
      "  plt.contourf(xx, yy, z_axis, c_map=plt.cm.RdYlBu, alpha=0.1)\n",
      "c:\\Users\\Andreas Marios\\AppData\\Local\\Programs\\Python\\Python311\\Lib\\site-packages\\sklearn\\base.py:409: UserWarning: X does not have valid feature names, but DecisionTreeClassifier was fitted with feature names\n",
      "  warnings.warn(\n",
      "C:\\Users\\Andreas Marios\\AppData\\Local\\Temp\\ipykernel_19044\\2807062296.py:18: UserWarning: The following kwargs were not used by contour: 'c_map'\n",
      "  plt.contourf(xx, yy, z_axis, c_map=plt.cm.RdYlBu, alpha=0.1)\n",
      "c:\\Users\\Andreas Marios\\AppData\\Local\\Programs\\Python\\Python311\\Lib\\site-packages\\sklearn\\base.py:409: UserWarning: X does not have valid feature names, but DecisionTreeClassifier was fitted with feature names\n",
      "  warnings.warn(\n",
      "C:\\Users\\Andreas Marios\\AppData\\Local\\Temp\\ipykernel_19044\\2807062296.py:18: UserWarning: The following kwargs were not used by contour: 'c_map'\n",
      "  plt.contourf(xx, yy, z_axis, c_map=plt.cm.RdYlBu, alpha=0.1)\n",
      "c:\\Users\\Andreas Marios\\AppData\\Local\\Programs\\Python\\Python311\\Lib\\site-packages\\sklearn\\base.py:409: UserWarning: X does not have valid feature names, but DecisionTreeClassifier was fitted with feature names\n",
      "  warnings.warn(\n",
      "C:\\Users\\Andreas Marios\\AppData\\Local\\Temp\\ipykernel_19044\\2807062296.py:18: UserWarning: The following kwargs were not used by contour: 'c_map'\n",
      "  plt.contourf(xx, yy, z_axis, c_map=plt.cm.RdYlBu, alpha=0.1)\n",
      "c:\\Users\\Andreas Marios\\AppData\\Local\\Programs\\Python\\Python311\\Lib\\site-packages\\sklearn\\base.py:409: UserWarning: X does not have valid feature names, but DecisionTreeClassifier was fitted with feature names\n",
      "  warnings.warn(\n",
      "C:\\Users\\Andreas Marios\\AppData\\Local\\Temp\\ipykernel_19044\\2807062296.py:18: UserWarning: The following kwargs were not used by contour: 'c_map'\n",
      "  plt.contourf(xx, yy, z_axis, c_map=plt.cm.RdYlBu, alpha=0.1)\n",
      "c:\\Users\\Andreas Marios\\AppData\\Local\\Programs\\Python\\Python311\\Lib\\site-packages\\sklearn\\base.py:409: UserWarning: X does not have valid feature names, but DecisionTreeClassifier was fitted with feature names\n",
      "  warnings.warn(\n",
      "C:\\Users\\Andreas Marios\\AppData\\Local\\Temp\\ipykernel_19044\\2807062296.py:18: UserWarning: The following kwargs were not used by contour: 'c_map'\n",
      "  plt.contourf(xx, yy, z_axis, c_map=plt.cm.RdYlBu, alpha=0.1)\n",
      "c:\\Users\\Andreas Marios\\AppData\\Local\\Programs\\Python\\Python311\\Lib\\site-packages\\sklearn\\base.py:409: UserWarning: X does not have valid feature names, but DecisionTreeClassifier was fitted with feature names\n",
      "  warnings.warn(\n",
      "C:\\Users\\Andreas Marios\\AppData\\Local\\Temp\\ipykernel_19044\\2807062296.py:18: UserWarning: The following kwargs were not used by contour: 'c_map'\n",
      "  plt.contourf(xx, yy, z_axis, c_map=plt.cm.RdYlBu, alpha=0.1)\n",
      "c:\\Users\\Andreas Marios\\AppData\\Local\\Programs\\Python\\Python311\\Lib\\site-packages\\sklearn\\base.py:409: UserWarning: X does not have valid feature names, but DecisionTreeClassifier was fitted with feature names\n",
      "  warnings.warn(\n",
      "C:\\Users\\Andreas Marios\\AppData\\Local\\Temp\\ipykernel_19044\\2807062296.py:18: UserWarning: The following kwargs were not used by contour: 'c_map'\n",
      "  plt.contourf(xx, yy, z_axis, c_map=plt.cm.RdYlBu, alpha=0.1)\n",
      "c:\\Users\\Andreas Marios\\AppData\\Local\\Programs\\Python\\Python311\\Lib\\site-packages\\sklearn\\base.py:409: UserWarning: X does not have valid feature names, but DecisionTreeClassifier was fitted with feature names\n",
      "  warnings.warn(\n",
      "C:\\Users\\Andreas Marios\\AppData\\Local\\Temp\\ipykernel_19044\\2807062296.py:18: UserWarning: The following kwargs were not used by contour: 'c_map'\n",
      "  plt.contourf(xx, yy, z_axis, c_map=plt.cm.RdYlBu, alpha=0.1)\n",
      "c:\\Users\\Andreas Marios\\AppData\\Local\\Programs\\Python\\Python311\\Lib\\site-packages\\sklearn\\base.py:409: UserWarning: X does not have valid feature names, but DecisionTreeClassifier was fitted with feature names\n",
      "  warnings.warn(\n",
      "C:\\Users\\Andreas Marios\\AppData\\Local\\Temp\\ipykernel_19044\\2807062296.py:18: UserWarning: The following kwargs were not used by contour: 'c_map'\n",
      "  plt.contourf(xx, yy, z_axis, c_map=plt.cm.RdYlBu, alpha=0.1)\n",
      "c:\\Users\\Andreas Marios\\AppData\\Local\\Programs\\Python\\Python311\\Lib\\site-packages\\sklearn\\base.py:409: UserWarning: X does not have valid feature names, but DecisionTreeClassifier was fitted with feature names\n",
      "  warnings.warn(\n",
      "C:\\Users\\Andreas Marios\\AppData\\Local\\Temp\\ipykernel_19044\\2807062296.py:18: UserWarning: The following kwargs were not used by contour: 'c_map'\n",
      "  plt.contourf(xx, yy, z_axis, c_map=plt.cm.RdYlBu, alpha=0.1)\n",
      "c:\\Users\\Andreas Marios\\AppData\\Local\\Programs\\Python\\Python311\\Lib\\site-packages\\sklearn\\base.py:409: UserWarning: X does not have valid feature names, but DecisionTreeClassifier was fitted with feature names\n",
      "  warnings.warn(\n",
      "C:\\Users\\Andreas Marios\\AppData\\Local\\Temp\\ipykernel_19044\\2807062296.py:18: UserWarning: The following kwargs were not used by contour: 'c_map'\n",
      "  plt.contourf(xx, yy, z_axis, c_map=plt.cm.RdYlBu, alpha=0.1)\n",
      "c:\\Users\\Andreas Marios\\AppData\\Local\\Programs\\Python\\Python311\\Lib\\site-packages\\sklearn\\base.py:409: UserWarning: X does not have valid feature names, but DecisionTreeClassifier was fitted with feature names\n",
      "  warnings.warn(\n",
      "C:\\Users\\Andreas Marios\\AppData\\Local\\Temp\\ipykernel_19044\\2807062296.py:18: UserWarning: The following kwargs were not used by contour: 'c_map'\n",
      "  plt.contourf(xx, yy, z_axis, c_map=plt.cm.RdYlBu, alpha=0.1)\n",
      "c:\\Users\\Andreas Marios\\AppData\\Local\\Programs\\Python\\Python311\\Lib\\site-packages\\sklearn\\base.py:409: UserWarning: X does not have valid feature names, but DecisionTreeClassifier was fitted with feature names\n",
      "  warnings.warn(\n",
      "C:\\Users\\Andreas Marios\\AppData\\Local\\Temp\\ipykernel_19044\\2807062296.py:18: UserWarning: The following kwargs were not used by contour: 'c_map'\n",
      "  plt.contourf(xx, yy, z_axis, c_map=plt.cm.RdYlBu, alpha=0.1)\n",
      "c:\\Users\\Andreas Marios\\AppData\\Local\\Programs\\Python\\Python311\\Lib\\site-packages\\sklearn\\base.py:409: UserWarning: X does not have valid feature names, but DecisionTreeClassifier was fitted with feature names\n",
      "  warnings.warn(\n",
      "C:\\Users\\Andreas Marios\\AppData\\Local\\Temp\\ipykernel_19044\\2807062296.py:18: UserWarning: The following kwargs were not used by contour: 'c_map'\n",
      "  plt.contourf(xx, yy, z_axis, c_map=plt.cm.RdYlBu, alpha=0.1)\n",
      "c:\\Users\\Andreas Marios\\AppData\\Local\\Programs\\Python\\Python311\\Lib\\site-packages\\sklearn\\base.py:409: UserWarning: X does not have valid feature names, but DecisionTreeClassifier was fitted with feature names\n",
      "  warnings.warn(\n",
      "C:\\Users\\Andreas Marios\\AppData\\Local\\Temp\\ipykernel_19044\\2807062296.py:18: UserWarning: The following kwargs were not used by contour: 'c_map'\n",
      "  plt.contourf(xx, yy, z_axis, c_map=plt.cm.RdYlBu, alpha=0.1)\n",
      "c:\\Users\\Andreas Marios\\AppData\\Local\\Programs\\Python\\Python311\\Lib\\site-packages\\sklearn\\base.py:409: UserWarning: X does not have valid feature names, but DecisionTreeClassifier was fitted with feature names\n",
      "  warnings.warn(\n",
      "C:\\Users\\Andreas Marios\\AppData\\Local\\Temp\\ipykernel_19044\\2807062296.py:18: UserWarning: The following kwargs were not used by contour: 'c_map'\n",
      "  plt.contourf(xx, yy, z_axis, c_map=plt.cm.RdYlBu, alpha=0.1)\n",
      "c:\\Users\\Andreas Marios\\AppData\\Local\\Programs\\Python\\Python311\\Lib\\site-packages\\sklearn\\base.py:409: UserWarning: X does not have valid feature names, but DecisionTreeClassifier was fitted with feature names\n",
      "  warnings.warn(\n",
      "C:\\Users\\Andreas Marios\\AppData\\Local\\Temp\\ipykernel_19044\\2807062296.py:18: UserWarning: The following kwargs were not used by contour: 'c_map'\n",
      "  plt.contourf(xx, yy, z_axis, c_map=plt.cm.RdYlBu, alpha=0.1)\n",
      "c:\\Users\\Andreas Marios\\AppData\\Local\\Programs\\Python\\Python311\\Lib\\site-packages\\sklearn\\base.py:409: UserWarning: X does not have valid feature names, but DecisionTreeClassifier was fitted with feature names\n",
      "  warnings.warn(\n",
      "C:\\Users\\Andreas Marios\\AppData\\Local\\Temp\\ipykernel_19044\\2807062296.py:18: UserWarning: The following kwargs were not used by contour: 'c_map'\n",
      "  plt.contourf(xx, yy, z_axis, c_map=plt.cm.RdYlBu, alpha=0.1)\n",
      "c:\\Users\\Andreas Marios\\AppData\\Local\\Programs\\Python\\Python311\\Lib\\site-packages\\sklearn\\base.py:409: UserWarning: X does not have valid feature names, but DecisionTreeClassifier was fitted with feature names\n",
      "  warnings.warn(\n",
      "C:\\Users\\Andreas Marios\\AppData\\Local\\Temp\\ipykernel_19044\\2807062296.py:18: UserWarning: The following kwargs were not used by contour: 'c_map'\n",
      "  plt.contourf(xx, yy, z_axis, c_map=plt.cm.RdYlBu, alpha=0.1)\n",
      "c:\\Users\\Andreas Marios\\AppData\\Local\\Programs\\Python\\Python311\\Lib\\site-packages\\sklearn\\base.py:409: UserWarning: X does not have valid feature names, but DecisionTreeClassifier was fitted with feature names\n",
      "  warnings.warn(\n",
      "C:\\Users\\Andreas Marios\\AppData\\Local\\Temp\\ipykernel_19044\\2807062296.py:18: UserWarning: The following kwargs were not used by contour: 'c_map'\n",
      "  plt.contourf(xx, yy, z_axis, c_map=plt.cm.RdYlBu, alpha=0.1)\n",
      "c:\\Users\\Andreas Marios\\AppData\\Local\\Programs\\Python\\Python311\\Lib\\site-packages\\sklearn\\base.py:409: UserWarning: X does not have valid feature names, but DecisionTreeClassifier was fitted with feature names\n",
      "  warnings.warn(\n",
      "C:\\Users\\Andreas Marios\\AppData\\Local\\Temp\\ipykernel_19044\\2807062296.py:18: UserWarning: The following kwargs were not used by contour: 'c_map'\n",
      "  plt.contourf(xx, yy, z_axis, c_map=plt.cm.RdYlBu, alpha=0.1)\n",
      "c:\\Users\\Andreas Marios\\AppData\\Local\\Programs\\Python\\Python311\\Lib\\site-packages\\sklearn\\base.py:409: UserWarning: X does not have valid feature names, but DecisionTreeClassifier was fitted with feature names\n",
      "  warnings.warn(\n",
      "C:\\Users\\Andreas Marios\\AppData\\Local\\Temp\\ipykernel_19044\\2807062296.py:18: UserWarning: The following kwargs were not used by contour: 'c_map'\n",
      "  plt.contourf(xx, yy, z_axis, c_map=plt.cm.RdYlBu, alpha=0.1)\n",
      "c:\\Users\\Andreas Marios\\AppData\\Local\\Programs\\Python\\Python311\\Lib\\site-packages\\sklearn\\base.py:409: UserWarning: X does not have valid feature names, but DecisionTreeClassifier was fitted with feature names\n",
      "  warnings.warn(\n",
      "C:\\Users\\Andreas Marios\\AppData\\Local\\Temp\\ipykernel_19044\\2807062296.py:18: UserWarning: The following kwargs were not used by contour: 'c_map'\n",
      "  plt.contourf(xx, yy, z_axis, c_map=plt.cm.RdYlBu, alpha=0.1)\n",
      "c:\\Users\\Andreas Marios\\AppData\\Local\\Programs\\Python\\Python311\\Lib\\site-packages\\sklearn\\base.py:409: UserWarning: X does not have valid feature names, but DecisionTreeClassifier was fitted with feature names\n",
      "  warnings.warn(\n",
      "C:\\Users\\Andreas Marios\\AppData\\Local\\Temp\\ipykernel_19044\\2807062296.py:18: UserWarning: The following kwargs were not used by contour: 'c_map'\n",
      "  plt.contourf(xx, yy, z_axis, c_map=plt.cm.RdYlBu, alpha=0.1)\n",
      "c:\\Users\\Andreas Marios\\AppData\\Local\\Programs\\Python\\Python311\\Lib\\site-packages\\sklearn\\base.py:409: UserWarning: X does not have valid feature names, but DecisionTreeClassifier was fitted with feature names\n",
      "  warnings.warn(\n",
      "C:\\Users\\Andreas Marios\\AppData\\Local\\Temp\\ipykernel_19044\\2807062296.py:18: UserWarning: The following kwargs were not used by contour: 'c_map'\n",
      "  plt.contourf(xx, yy, z_axis, c_map=plt.cm.RdYlBu, alpha=0.1)\n",
      "c:\\Users\\Andreas Marios\\AppData\\Local\\Programs\\Python\\Python311\\Lib\\site-packages\\sklearn\\base.py:409: UserWarning: X does not have valid feature names, but DecisionTreeClassifier was fitted with feature names\n",
      "  warnings.warn(\n",
      "C:\\Users\\Andreas Marios\\AppData\\Local\\Temp\\ipykernel_19044\\2807062296.py:18: UserWarning: The following kwargs were not used by contour: 'c_map'\n",
      "  plt.contourf(xx, yy, z_axis, c_map=plt.cm.RdYlBu, alpha=0.1)\n",
      "c:\\Users\\Andreas Marios\\AppData\\Local\\Programs\\Python\\Python311\\Lib\\site-packages\\sklearn\\base.py:409: UserWarning: X does not have valid feature names, but DecisionTreeClassifier was fitted with feature names\n",
      "  warnings.warn(\n",
      "C:\\Users\\Andreas Marios\\AppData\\Local\\Temp\\ipykernel_19044\\2807062296.py:18: UserWarning: The following kwargs were not used by contour: 'c_map'\n",
      "  plt.contourf(xx, yy, z_axis, c_map=plt.cm.RdYlBu, alpha=0.1)\n",
      "c:\\Users\\Andreas Marios\\AppData\\Local\\Programs\\Python\\Python311\\Lib\\site-packages\\sklearn\\base.py:409: UserWarning: X does not have valid feature names, but DecisionTreeClassifier was fitted with feature names\n",
      "  warnings.warn(\n",
      "C:\\Users\\Andreas Marios\\AppData\\Local\\Temp\\ipykernel_19044\\2807062296.py:18: UserWarning: The following kwargs were not used by contour: 'c_map'\n",
      "  plt.contourf(xx, yy, z_axis, c_map=plt.cm.RdYlBu, alpha=0.1)\n",
      "c:\\Users\\Andreas Marios\\AppData\\Local\\Programs\\Python\\Python311\\Lib\\site-packages\\sklearn\\base.py:409: UserWarning: X does not have valid feature names, but DecisionTreeClassifier was fitted with feature names\n",
      "  warnings.warn(\n",
      "C:\\Users\\Andreas Marios\\AppData\\Local\\Temp\\ipykernel_19044\\2807062296.py:18: UserWarning: The following kwargs were not used by contour: 'c_map'\n",
      "  plt.contourf(xx, yy, z_axis, c_map=plt.cm.RdYlBu, alpha=0.1)\n",
      "c:\\Users\\Andreas Marios\\AppData\\Local\\Programs\\Python\\Python311\\Lib\\site-packages\\sklearn\\base.py:409: UserWarning: X does not have valid feature names, but DecisionTreeClassifier was fitted with feature names\n",
      "  warnings.warn(\n",
      "C:\\Users\\Andreas Marios\\AppData\\Local\\Temp\\ipykernel_19044\\2807062296.py:18: UserWarning: The following kwargs were not used by contour: 'c_map'\n",
      "  plt.contourf(xx, yy, z_axis, c_map=plt.cm.RdYlBu, alpha=0.1)\n",
      "c:\\Users\\Andreas Marios\\AppData\\Local\\Programs\\Python\\Python311\\Lib\\site-packages\\sklearn\\base.py:409: UserWarning: X does not have valid feature names, but DecisionTreeClassifier was fitted with feature names\n",
      "  warnings.warn(\n",
      "C:\\Users\\Andreas Marios\\AppData\\Local\\Temp\\ipykernel_19044\\2807062296.py:18: UserWarning: The following kwargs were not used by contour: 'c_map'\n",
      "  plt.contourf(xx, yy, z_axis, c_map=plt.cm.RdYlBu, alpha=0.1)\n",
      "c:\\Users\\Andreas Marios\\AppData\\Local\\Programs\\Python\\Python311\\Lib\\site-packages\\sklearn\\base.py:409: UserWarning: X does not have valid feature names, but DecisionTreeClassifier was fitted with feature names\n",
      "  warnings.warn(\n",
      "C:\\Users\\Andreas Marios\\AppData\\Local\\Temp\\ipykernel_19044\\2807062296.py:18: UserWarning: The following kwargs were not used by contour: 'c_map'\n",
      "  plt.contourf(xx, yy, z_axis, c_map=plt.cm.RdYlBu, alpha=0.1)\n",
      "c:\\Users\\Andreas Marios\\AppData\\Local\\Programs\\Python\\Python311\\Lib\\site-packages\\sklearn\\base.py:409: UserWarning: X does not have valid feature names, but DecisionTreeClassifier was fitted with feature names\n",
      "  warnings.warn(\n",
      "C:\\Users\\Andreas Marios\\AppData\\Local\\Temp\\ipykernel_19044\\2807062296.py:18: UserWarning: The following kwargs were not used by contour: 'c_map'\n",
      "  plt.contourf(xx, yy, z_axis, c_map=plt.cm.RdYlBu, alpha=0.1)\n",
      "c:\\Users\\Andreas Marios\\AppData\\Local\\Programs\\Python\\Python311\\Lib\\site-packages\\sklearn\\base.py:409: UserWarning: X does not have valid feature names, but DecisionTreeClassifier was fitted with feature names\n",
      "  warnings.warn(\n",
      "C:\\Users\\Andreas Marios\\AppData\\Local\\Temp\\ipykernel_19044\\2807062296.py:18: UserWarning: The following kwargs were not used by contour: 'c_map'\n",
      "  plt.contourf(xx, yy, z_axis, c_map=plt.cm.RdYlBu, alpha=0.1)\n",
      "c:\\Users\\Andreas Marios\\AppData\\Local\\Programs\\Python\\Python311\\Lib\\site-packages\\sklearn\\base.py:409: UserWarning: X does not have valid feature names, but DecisionTreeClassifier was fitted with feature names\n",
      "  warnings.warn(\n",
      "C:\\Users\\Andreas Marios\\AppData\\Local\\Temp\\ipykernel_19044\\2807062296.py:18: UserWarning: The following kwargs were not used by contour: 'c_map'\n",
      "  plt.contourf(xx, yy, z_axis, c_map=plt.cm.RdYlBu, alpha=0.1)\n",
      "c:\\Users\\Andreas Marios\\AppData\\Local\\Programs\\Python\\Python311\\Lib\\site-packages\\sklearn\\base.py:409: UserWarning: X does not have valid feature names, but DecisionTreeClassifier was fitted with feature names\n",
      "  warnings.warn(\n",
      "C:\\Users\\Andreas Marios\\AppData\\Local\\Temp\\ipykernel_19044\\2807062296.py:18: UserWarning: The following kwargs were not used by contour: 'c_map'\n",
      "  plt.contourf(xx, yy, z_axis, c_map=plt.cm.RdYlBu, alpha=0.1)\n",
      "c:\\Users\\Andreas Marios\\AppData\\Local\\Programs\\Python\\Python311\\Lib\\site-packages\\sklearn\\base.py:409: UserWarning: X does not have valid feature names, but DecisionTreeClassifier was fitted with feature names\n",
      "  warnings.warn(\n",
      "C:\\Users\\Andreas Marios\\AppData\\Local\\Temp\\ipykernel_19044\\2807062296.py:18: UserWarning: The following kwargs were not used by contour: 'c_map'\n",
      "  plt.contourf(xx, yy, z_axis, c_map=plt.cm.RdYlBu, alpha=0.1)\n",
      "c:\\Users\\Andreas Marios\\AppData\\Local\\Programs\\Python\\Python311\\Lib\\site-packages\\sklearn\\base.py:409: UserWarning: X does not have valid feature names, but DecisionTreeClassifier was fitted with feature names\n",
      "  warnings.warn(\n",
      "C:\\Users\\Andreas Marios\\AppData\\Local\\Temp\\ipykernel_19044\\2807062296.py:18: UserWarning: The following kwargs were not used by contour: 'c_map'\n",
      "  plt.contourf(xx, yy, z_axis, c_map=plt.cm.RdYlBu, alpha=0.1)\n"
     ]
    },
    {
     "data": {
      "text/plain": [
       "<matplotlib.legend.Legend at 0x15d1e3320d0>"
      ]
     },
     "execution_count": 22,
     "metadata": {},
     "output_type": "execute_result"
    },
    {
     "data": {
      "image/png": "[encoded data removed]",
      "text/plain": [
       "<Figure size 640x480 with 1 Axes>"
      ]
     },
     "metadata": {},
     "output_type": "display_data"
    }
   ],
   "source": [
    "# make a grid based on the dataset values\n",
    "h = 0.02\n",
    "a = df.get(\"sepal length (cm)\")\n",
    "b = df.get(\"sepal width (cm)\")\n",
    "x_min, x_max = a.min() - 1, a.max() + 1\n",
    "y_min, y_max = b.min() - 1, b.max() + 1\n",
    "xx, yy = np.meshgrid(np.arange(x_min, x_max, h), np.arange(y_min, y_max, h))\n",
    "zetas = list()\n",
    "\n",
    "# Creating the random forest (100 trees)\n",
    "fig = plt.figure()\n",
    "samp_num = 100\n",
    "for i in range(samp_num):\n",
    "    clf = tree.DecisionTreeClassifier(max_depth=best_depth, random_state=42)\n",
    "    clf = clf.fit(x_train_list[i], y_train_list[i])\n",
    "    z_axis = clf.predict(np.c_[xx.ravel(), yy.ravel()])\n",
    "    z_axis = z_axis.reshape(xx.shape)\n",
    "    plt.contourf(xx, yy, z_axis, c_map=plt.cm.RdYlBu, alpha=0.1)\n",
    "\n",
    "plt.axis('tight')\n",
    "\n",
    "color = \"white\"\n",
    "for i in range(len(y_data)):\n",
    "    if y_data[i] == 0:\n",
    "        color = \"red\"\n",
    "    elif y_data[i] == 1:\n",
    "        color = \"blue\"\n",
    "    else:\n",
    "        color = \"yellow\"\n",
    "    plt.scatter(X_data[i][0], X_data[i][1], color=color)\n",
    "plt.xlabel(\"sepal length (cm)\")\n",
    "plt.ylabel(\"sepal width (cm)\")\n",
    "plt.legend([\"virginica\", \"setosa\", \"versicolor\"])"
   ]
  },
  {
   "attachments": {},
   "cell_type": "markdown",
   "metadata": {},
   "source": [
    "# Observations\n",
    "\n",
    "We observe that in the case of the forest the decision boundaries are more complex than in the case of a simple tree. In the first part the boundaries were clear, but in the second part (forest) there is an overlap between the decision boundaries."
   ]
  },
  {
   "attachments": {},
   "cell_type": "markdown",
   "metadata": {},
   "source": [
    "### **$γ$ influence on accuracy**"
   ]
  },
  {
   "attachments": {},
   "cell_type": "markdown",
   "metadata": {},
   "source": [
    "We will manually compute the accuracy of the forest for some γ values and then we will present the outcome and the observations."
   ]
  },
  {
   "cell_type": "code",
   "execution_count": 112,
   "metadata": {},
   "outputs": [
    {
     "name": "stdout",
     "output_type": "stream",
     "text": [
      "Accuracy: 85.33%\n"
     ]
    }
   ],
   "source": [
    "# Bootstrap method\n",
    "samples = [] # the placeholder for the 100 samples?????????????????????\n",
    "samp_num = 100 # number of bootstraped samples\n",
    "gamma = 0.7 # γ = 50%\n",
    "\n",
    "x_train_list = list() # the placeholder for the 100 samples\n",
    "y_train_list = list() # the placeholder for the 100 samples\n",
    "# x_test_list = list() # ???????????????????????\n",
    "# y_test_list = list() # ???????????????????????\n",
    "\n",
    "for i in range(samp_num):\n",
    "  X_tr, X_t, y_tr, y_t = train_test_split(X_train, y_train, test_size=gamma, shuffle=True, random_state=i)\n",
    "  x_train_list.append(X_tr)\n",
    "  # x_test_list.append(X_t)?????????????????\n",
    "  y_train_list.append(y_tr)\n",
    "  # y_test_list.append(y_t)?????????????????\n",
    "\n",
    "# Random best depth\n",
    "best_depth = 2\n",
    "y_prediction_list = list()\n",
    "\n",
    "# Creating the random forest (100 trees)\n",
    "for i in range(samp_num):\n",
    "    clf = tree.DecisionTreeClassifier(max_depth=best_depth, random_state=42)\n",
    "    clf = clf.fit(x_train_list[i], y_train_list[i])\n",
    "    y_predict = clf.predict(X_test)\n",
    "    y_prediction_list.append(y_predict)\n",
    "\n",
    "# Collecting most frequent value for each corresponding x_test value\n",
    "frequent_predictions = list()\n",
    "\n",
    "for column in range(len(y_prediction_list[0])):\n",
    "    temp_list = list()\n",
    "    for row in range(len(y_prediction_list)):\n",
    "        temp_list.append(y_prediction_list[row][column])\n",
    "    frequent_predictions.append(temp_list)\n",
    "\n",
    "predicted_values_list = list()\n",
    "# predicted_values = np.array(predicted_values_list)\n",
    "\n",
    "# Calculating the most frequent values\n",
    "for i in range(len(frequent_predictions)):\n",
    "    temp = np.bincount(frequent_predictions[i]).argmax()\n",
    "    # print(temp)\n",
    "    predicted_values_list.append(temp)\n",
    "\n",
    "accuracy = round(metrics.accuracy_score(y_test, predicted_values_list) * 100, 2)\n",
    "print(f\"Accuracy: {accuracy}%\")"
   ]
  },
  {
   "attachments": {
    "image.png": {
     "image/png": "[encoded data removed]"
    }
   },
   "cell_type": "markdown",
   "metadata": {},
   "source": [
    "![image.png](attachment:image.png)"
   ]
  },
  {
   "attachments": {},
   "cell_type": "markdown",
   "metadata": {},
   "source": [
    "We can say that for gamma values > 0.5 we achive greater accuracy, but we can`t see any difference for gamma values less than 0.5"
   ]
  },
  {
   "cell_type": "code",
   "execution_count": 28,
   "metadata": {},
   "outputs": [],
   "source": [
    "# delete????????????????????????\n",
    "for depth in range(1, 20):\n",
    "  clf = tree.DecisionTreeClassifier(max_depth=depth, random_state=0)\n",
    "  clf = clf.fit(X_train, y_train)\n",
    "  y_pred = clf.predict(X_test)\n",
    "  accuracy = round(metrics.accuracy_score(y_test, y_pred) * 100, 2)\n",
    "  accuracy_list.append(accuracy)"
   ]
  },
  {
   "cell_type": "code",
   "execution_count": 29,
   "metadata": {},
   "outputs": [
    {
     "data": {
      "text/plain": [
       "(100, 37, 2)"
      ]
     },
     "execution_count": 29,
     "metadata": {},
     "output_type": "execute_result"
    }
   ],
   "source": [
    "# delete????????????????\n",
    "np.shape(x_train_list)"
   ]
  },
  {
   "attachments": {},
   "cell_type": "markdown",
   "metadata": {},
   "source": [
    "### **Tree creations and testing the accuracies**\n",
    "\n",
    "# Mallon feygei e???"
   ]
  },
  {
   "cell_type": "code",
   "execution_count": 30,
   "metadata": {},
   "outputs": [
    {
     "ename": "NameError",
     "evalue": "name 'x_samples' is not defined",
     "output_type": "error",
     "traceback": [
      "\u001b[1;31m---------------------------------------------------------------------------\u001b[0m",
      "\u001b[1;31mNameError\u001b[0m                                 Traceback (most recent call last)",
      "Cell \u001b[1;32mIn[30], line 7\u001b[0m\n\u001b[0;32m      5\u001b[0m \u001b[39mfor\u001b[39;00m forest_tree \u001b[39min\u001b[39;00m \u001b[39mrange\u001b[39m(samp_num):\n\u001b[0;32m      6\u001b[0m     clf \u001b[39m=\u001b[39m tree\u001b[39m.\u001b[39mDecisionTreeClassifier(max_depth\u001b[39m=\u001b[39mdepth, random_state\u001b[39m=\u001b[39m\u001b[39m0\u001b[39m)\n\u001b[1;32m----> 7\u001b[0m     clf \u001b[39m=\u001b[39m clf\u001b[39m.\u001b[39mfit(x_samples[forest_tree], y_samples[forest_tree])\n\u001b[0;32m      8\u001b[0m     y_pred \u001b[39m=\u001b[39m clf\u001b[39m.\u001b[39mpredict(X_test)\n\u001b[0;32m      9\u001b[0m     accuracy \u001b[39m=\u001b[39m \u001b[39mround\u001b[39m(metrics\u001b[39m.\u001b[39maccuracy_score(y_test, y_pred) \u001b[39m*\u001b[39m \u001b[39m100\u001b[39m, \u001b[39m2\u001b[39m)\n",
      "\u001b[1;31mNameError\u001b[0m: name 'x_samples' is not defined"
     ]
    }
   ],
   "source": [
    "accuracy_list = []\n",
    "\n",
    "for depth in range(1, 15):\n",
    "    accu = []\n",
    "    for forest_tree in range(samp_num):\n",
    "        clf = tree.DecisionTreeClassifier(max_depth=depth, random_state=0)\n",
    "        clf = clf.fit(x_samples[forest_tree], y_samples[forest_tree])\n",
    "        y_pred = clf.predict(X_test)\n",
    "        accuracy = round(metrics.accuracy_score(y_test, y_pred) * 100, 2)\n",
    "        accu.append(accuracy)\n",
    "    accuracy_list.append(statistics.mean(accu))\n",
    "\n",
    "# not the right method to compute the accuracy\n",
    "# we must first make the classification using the forest and then compute the accuracy\n",
    "print(\"****************************************************\")\n",
    "print(f\"Accuracy based on depth: {accuracy_list}\")\n",
    "best_accuracy = max(accuracy_list)\n",
    "# return best accuracy index\n",
    "best_depth = np.argmax(accuracy_list) + 1\n",
    "print(f\"Best Accuracy is: {best_accuracy}% and is achived in depth: {best_depth}\")\n",
    "print(\"****************************************************\")"
   ]
  },
  {
   "cell_type": "code",
   "execution_count": null,
   "metadata": {},
   "outputs": [],
   "source": [
    "# Just to be sure\n",
    "# x train data and incices\n",
    "# for i in range(samp_num):\n",
    "#   # y = random.sample(X_train_data.tolist(), round(total_train_set))\n",
    "#   index_value = random.sample(list(enumerate(X_train_data.tolist())), total_train_length)\n",
    "#   samples.append(index_value)\n",
    "# # print(samples[1][2][0])\n",
    "# # print(samples)\n",
    "\n",
    "# # x train data\n",
    "# x_samples = []\n",
    "# for i in range(samp_num):\n",
    "#   jth_samp = []\n",
    "#   for j in range(total_train_length):\n",
    "#     jth_samp.append(X_train_data[samples[i][j][0]])\n",
    "#   x_samples.append(jth_samp)\n",
    "# # print(x_samples)\n",
    "\n",
    "\n",
    "# # y train data\n",
    "# y_samples = []\n",
    "# for i in range(samp_num):\n",
    "#   jth_samp = []\n",
    "#   for j in range(total_train_length):\n",
    "#     jth_samp.append(y_train_data[samples[i][j][0]])\n",
    "#   y_samples.append(jth_samp)\n",
    "# print(y_samples)"
   ]
  }
 ],
 "metadata": {
  "kernelspec": {
   "display_name": "Python 3",
   "language": "python",
   "name": "python3"
  },
  "language_info": {
   "codemirror_mode": {
    "name": "ipython",
    "version": 3
   },
   "file_extension": ".py",
   "mimetype": "text/x-python",
   "name": "python",
   "nbconvert_exporter": "python",
   "pygments_lexer": "ipython3",
   "version": "3.11.1"
  },
  "orig_nbformat": 4,
  "vscode": {
   "interpreter": {
    "hash": "eaeba829fcc41942c9382f00f3111836c378893f837080543f94432f2f701d78"
   }
  }
 },
 "nbformat": 4,
 "nbformat_minor": 2
}

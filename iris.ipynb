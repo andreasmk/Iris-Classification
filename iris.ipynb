{
 "cells": [
  {
   "attachments": {},
   "cell_type": "markdown",
   "metadata": {},
   "source": [
    "#   **Pattern recognition course | ECE AUTH | 3nd project | Winter semester 2022**\n",
    "\n",
    "# **Floriculture Laboratory of the Department of Agriculture**\n",
    "\n",
    "![ logo](iris.png)"
   ]
  },
  {
   "cell_type": "markdown",
   "metadata": {},
   "source": [
    "\n",
    "\n",
    ">   Giachoudis Christos\n",
    "\n",
    "\n",
    ">   Kostopoulos Andreas Marios"
   ]
  },
  {
   "cell_type": "markdown",
   "metadata": {},
   "source": [
    "# **General comments**\n",
    "\n"
   ]
  },
  {
   "cell_type": "markdown",
   "metadata": {},
   "source": [
    "# Necessary imports"
   ]
  },
  {
   "cell_type": "code",
   "execution_count": 8,
   "metadata": {},
   "outputs": [],
   "source": [
    "# Importing the necessary libraries and modules\n",
    "import numpy as np\n",
    "import math\n",
    "import matplotlib.pyplot as plt\n",
    "import sklearn as skl\n",
    "import pandas as pd\n",
    "from sklearn.datasets import load_iris"
   ]
  },
  {
   "attachments": {},
   "cell_type": "markdown",
   "metadata": {},
   "source": [
    "# **Part A**"
   ]
  },
  {
   "attachments": {},
   "cell_type": "markdown",
   "metadata": {},
   "source": [
    "## **Iris plants dataset**"
   ]
  },
  {
   "cell_type": "code",
   "execution_count": 10,
   "metadata": {},
   "outputs": [
    {
     "data": {
      "text/html": [
       "<div>\n",
       "<style scoped>\n",
       "    .dataframe tbody tr th:only-of-type {\n",
       "        vertical-align: middle;\n",
       "    }\n",
       "\n",
       "    .dataframe tbody tr th {\n",
       "        vertical-align: top;\n",
       "    }\n",
       "\n",
       "    .dataframe thead th {\n",
       "        text-align: right;\n",
       "    }\n",
       "</style>\n",
       "<table border=\"1\" class=\"dataframe\">\n",
       "  <thead>\n",
       "    <tr style=\"text-align: right;\">\n",
       "      <th></th>\n",
       "      <th>sepal length (cm)</th>\n",
       "      <th>sepal width (cm)</th>\n",
       "      <th>petal length (cm)</th>\n",
       "      <th>petal width (cm)</th>\n",
       "    </tr>\n",
       "  </thead>\n",
       "  <tbody>\n",
       "    <tr>\n",
       "      <th>0</th>\n",
       "      <td>5.1</td>\n",
       "      <td>3.5</td>\n",
       "      <td>1.4</td>\n",
       "      <td>0.2</td>\n",
       "    </tr>\n",
       "    <tr>\n",
       "      <th>1</th>\n",
       "      <td>4.9</td>\n",
       "      <td>3.0</td>\n",
       "      <td>1.4</td>\n",
       "      <td>0.2</td>\n",
       "    </tr>\n",
       "    <tr>\n",
       "      <th>2</th>\n",
       "      <td>4.7</td>\n",
       "      <td>3.2</td>\n",
       "      <td>1.3</td>\n",
       "      <td>0.2</td>\n",
       "    </tr>\n",
       "    <tr>\n",
       "      <th>3</th>\n",
       "      <td>4.6</td>\n",
       "      <td>3.1</td>\n",
       "      <td>1.5</td>\n",
       "      <td>0.2</td>\n",
       "    </tr>\n",
       "    <tr>\n",
       "      <th>4</th>\n",
       "      <td>5.0</td>\n",
       "      <td>3.6</td>\n",
       "      <td>1.4</td>\n",
       "      <td>0.2</td>\n",
       "    </tr>\n",
       "  </tbody>\n",
       "</table>\n",
       "</div>"
      ],
      "text/plain": [
       "   sepal length (cm)  sepal width (cm)  petal length (cm)  petal width (cm)\n",
       "0                5.1               3.5                1.4               0.2\n",
       "1                4.9               3.0                1.4               0.2\n",
       "2                4.7               3.2                1.3               0.2\n",
       "3                4.6               3.1                1.5               0.2\n",
       "4                5.0               3.6                1.4               0.2"
      ]
     },
     "execution_count": 10,
     "metadata": {},
     "output_type": "execute_result"
    }
   ],
   "source": [
    "# import dataset\n",
    "dataset = load_iris(as_frame=True)\n",
    "\n",
    "# show dataset summary statistics\n",
    "dataset['data'].head()"
   ]
  },
  {
   "cell_type": "code",
   "execution_count": 11,
   "metadata": {},
   "outputs": [
    {
     "data": {
      "text/html": [
       "<div>\n",
       "<style scoped>\n",
       "    .dataframe tbody tr th:only-of-type {\n",
       "        vertical-align: middle;\n",
       "    }\n",
       "\n",
       "    .dataframe tbody tr th {\n",
       "        vertical-align: top;\n",
       "    }\n",
       "\n",
       "    .dataframe thead th {\n",
       "        text-align: right;\n",
       "    }\n",
       "</style>\n",
       "<table border=\"1\" class=\"dataframe\">\n",
       "  <thead>\n",
       "    <tr style=\"text-align: right;\">\n",
       "      <th></th>\n",
       "      <th>sepal length (cm)</th>\n",
       "      <th>sepal width (cm)</th>\n",
       "      <th>petal length (cm)</th>\n",
       "      <th>petal width (cm)</th>\n",
       "    </tr>\n",
       "  </thead>\n",
       "  <tbody>\n",
       "    <tr>\n",
       "      <th>count</th>\n",
       "      <td>150.000000</td>\n",
       "      <td>150.000000</td>\n",
       "      <td>150.000000</td>\n",
       "      <td>150.000000</td>\n",
       "    </tr>\n",
       "    <tr>\n",
       "      <th>mean</th>\n",
       "      <td>5.843333</td>\n",
       "      <td>3.057333</td>\n",
       "      <td>3.758000</td>\n",
       "      <td>1.199333</td>\n",
       "    </tr>\n",
       "    <tr>\n",
       "      <th>std</th>\n",
       "      <td>0.828066</td>\n",
       "      <td>0.435866</td>\n",
       "      <td>1.765298</td>\n",
       "      <td>0.762238</td>\n",
       "    </tr>\n",
       "    <tr>\n",
       "      <th>min</th>\n",
       "      <td>4.300000</td>\n",
       "      <td>2.000000</td>\n",
       "      <td>1.000000</td>\n",
       "      <td>0.100000</td>\n",
       "    </tr>\n",
       "    <tr>\n",
       "      <th>25%</th>\n",
       "      <td>5.100000</td>\n",
       "      <td>2.800000</td>\n",
       "      <td>1.600000</td>\n",
       "      <td>0.300000</td>\n",
       "    </tr>\n",
       "    <tr>\n",
       "      <th>50%</th>\n",
       "      <td>5.800000</td>\n",
       "      <td>3.000000</td>\n",
       "      <td>4.350000</td>\n",
       "      <td>1.300000</td>\n",
       "    </tr>\n",
       "    <tr>\n",
       "      <th>75%</th>\n",
       "      <td>6.400000</td>\n",
       "      <td>3.300000</td>\n",
       "      <td>5.100000</td>\n",
       "      <td>1.800000</td>\n",
       "    </tr>\n",
       "    <tr>\n",
       "      <th>max</th>\n",
       "      <td>7.900000</td>\n",
       "      <td>4.400000</td>\n",
       "      <td>6.900000</td>\n",
       "      <td>2.500000</td>\n",
       "    </tr>\n",
       "  </tbody>\n",
       "</table>\n",
       "</div>"
      ],
      "text/plain": [
       "       sepal length (cm)  sepal width (cm)  petal length (cm)  \\\n",
       "count         150.000000        150.000000         150.000000   \n",
       "mean            5.843333          3.057333           3.758000   \n",
       "std             0.828066          0.435866           1.765298   \n",
       "min             4.300000          2.000000           1.000000   \n",
       "25%             5.100000          2.800000           1.600000   \n",
       "50%             5.800000          3.000000           4.350000   \n",
       "75%             6.400000          3.300000           5.100000   \n",
       "max             7.900000          4.400000           6.900000   \n",
       "\n",
       "       petal width (cm)  \n",
       "count        150.000000  \n",
       "mean           1.199333  \n",
       "std            0.762238  \n",
       "min            0.100000  \n",
       "25%            0.300000  \n",
       "50%            1.300000  \n",
       "75%            1.800000  \n",
       "max            2.500000  "
      ]
     },
     "execution_count": 11,
     "metadata": {},
     "output_type": "execute_result"
    }
   ],
   "source": [
    "# show dataset statistics\n",
    "dataset['data'].describe()"
   ]
  },
  {
   "cell_type": "code",
   "execution_count": 12,
   "metadata": {},
   "outputs": [
    {
     "data": {
      "text/plain": [
       "0    50\n",
       "1    50\n",
       "2    50\n",
       "Name: target, dtype: int64"
      ]
     },
     "execution_count": 12,
     "metadata": {},
     "output_type": "execute_result"
    }
   ],
   "source": [
    "# show how many values we have in each class\n",
    "dataset['target'].value_counts()"
   ]
  },
  {
   "attachments": {},
   "cell_type": "markdown",
   "metadata": {},
   "source": [
    "### **No normalization is needed**"
   ]
  },
  {
   "cell_type": "code",
   "execution_count": 28,
   "metadata": {},
   "outputs": [
    {
     "data": {
      "text/plain": [
       "<AxesSubplot: >"
      ]
     },
     "execution_count": 28,
     "metadata": {},
     "output_type": "execute_result"
    },
    {
     "data": {
      "image/png": "[encoded data removed]",
      "text/plain": [
       "<Figure size 640x480 with 1 Axes>"
      ]
     },
     "metadata": {},
     "output_type": "display_data"
    }
   ],
   "source": [
    "# data quantity vizualization\n",
    "dataset.target.value_counts().plot(kind='bar', rot=0)"
   ]
  },
  {
   "attachments": {},
   "cell_type": "markdown",
   "metadata": {},
   "source": [
    "### **Pandas is in the game**\n",
    "### **Discarding the unnecessary data**"
   ]
  },
  {
   "cell_type": "code",
   "execution_count": 29,
   "metadata": {},
   "outputs": [
    {
     "name": "stdout",
     "output_type": "stream",
     "text": [
      "     sepal length (cm)  sepal width (cm)\n",
      "0                  5.1               3.5\n",
      "1                  4.9               3.0\n",
      "2                  4.7               3.2\n",
      "3                  4.6               3.1\n",
      "4                  5.0               3.6\n",
      "..                 ...               ...\n",
      "145                6.7               3.0\n",
      "146                6.3               2.5\n",
      "147                6.5               3.0\n",
      "148                6.2               3.4\n",
      "149                5.9               3.0\n",
      "\n",
      "[150 rows x 2 columns]\n",
      "0      0\n",
      "1      0\n",
      "2      0\n",
      "3      0\n",
      "4      0\n",
      "      ..\n",
      "145    2\n",
      "146    2\n",
      "147    2\n",
      "148    2\n",
      "149    2\n",
      "Name: target, Length: 150, dtype: int32\n"
     ]
    }
   ],
   "source": [
    "# convert to pandas dataframe (giati h zwh na einai toso dyskolh???)\n",
    "df = pd.DataFrame(dataset.data, columns=dataset.feature_names)\n",
    "df['target'] = dataset.target\n",
    "\n",
    "# discard what I don't need (2 and 3 are the columns we do not need)\n",
    "df.drop(df.columns[[2, 3]], axis=1, inplace=True)\n",
    "# print(df) # just checking\n",
    "\n",
    "X = df.get([\"sepal length (cm)\", \"sepal width (cm)\"])\n",
    "y = df.get(\"target\")\n",
    "\n",
    "# just checking\n",
    "print(X)\n",
    "print(y)"
   ]
  },
  {
   "attachments": {},
   "cell_type": "markdown",
   "metadata": {},
   "source": [
    "### **Training and testing sets**"
   ]
  },
  {
   "cell_type": "code",
   "execution_count": 30,
   "metadata": {},
   "outputs": [
    {
     "name": "stdout",
     "output_type": "stream",
     "text": [
      "The X_train set is:\n",
      "     sepal length (cm)  sepal width (cm)\n",
      "84                 5.4               3.0\n",
      "148                6.2               3.4\n",
      "53                 5.5               2.3\n",
      "5                  5.4               3.9\n",
      "93                 5.0               2.3\n",
      "..                 ...               ...\n",
      "71                 6.1               2.8\n",
      "106                4.9               2.5\n",
      "14                 5.8               4.0\n",
      "92                 5.8               2.6\n",
      "102                7.1               3.0\n",
      "\n",
      "[75 rows x 2 columns]\n",
      "The X_test set is:\n",
      "     sepal length (cm)  sepal width (cm)\n",
      "73                 6.1               2.8\n",
      "18                 5.7               3.8\n",
      "118                7.7               2.6\n",
      "78                 6.0               2.9\n",
      "76                 6.8               2.8\n",
      "..                 ...               ...\n",
      "113                5.7               2.5\n",
      "33                 5.5               4.2\n",
      "138                6.0               3.0\n",
      "101                5.8               2.7\n",
      "62                 6.0               2.2\n",
      "\n",
      "[75 rows x 2 columns]\n",
      "The y_train set is:\n",
      "84     1\n",
      "148    2\n",
      "53     1\n",
      "5      0\n",
      "93     1\n",
      "      ..\n",
      "71     1\n",
      "106    2\n",
      "14     0\n",
      "92     1\n",
      "102    2\n",
      "Name: target, Length: 75, dtype: int32\n",
      "The y_test set is:\n",
      "73     1\n",
      "18     0\n",
      "118    2\n",
      "78     1\n",
      "76     1\n",
      "      ..\n",
      "113    2\n",
      "33     0\n",
      "138    2\n",
      "101    2\n",
      "62     1\n",
      "Name: target, Length: 75, dtype: int32\n"
     ]
    }
   ],
   "source": [
    "# training and testing sets\n",
    "from sklearn.model_selection import train_test_split\n",
    "X_train, X_test, y_train, y_test = train_test_split(X, y, test_size=0.5, shuffle=True, random_state=42)\n",
    "\n",
    "print(\"The X_train set is:\")\n",
    "print(X_train)\n",
    "\n",
    "print(\"The X_test set is:\")\n",
    "print(X_test)\n",
    "\n",
    "print(\"The y_train set is:\")\n",
    "print(y_train)\n",
    "\n",
    "print(\"The y_test set is:\")\n",
    "print(y_test)"
   ]
  },
  {
   "attachments": {},
   "cell_type": "markdown",
   "metadata": {},
   "source": [
    "### **Training and testing**"
   ]
  },
  {
   "cell_type": "code",
   "execution_count": 32,
   "metadata": {},
   "outputs": [
    {
     "data": {
      "text/plain": [
       "[Text(0.39545454545454545, 0.9583333333333334, 'x[0] <= 5.45\\ngini = 0.662\\nsamples = 75\\nvalue = [21, 27, 27]'),\n",
       " Text(0.14545454545454545, 0.875, 'x[1] <= 2.8\\ngini = 0.37\\nsamples = 26\\nvalue = [20, 5, 1]'),\n",
       " Text(0.07272727272727272, 0.7916666666666666, 'x[0] <= 4.7\\ngini = 0.5\\nsamples = 6\\nvalue = [1, 4, 1]'),\n",
       " Text(0.03636363636363636, 0.7083333333333334, 'gini = 0.0\\nsamples = 1\\nvalue = [1, 0, 0]'),\n",
       " Text(0.10909090909090909, 0.7083333333333334, 'x[0] <= 4.95\\ngini = 0.32\\nsamples = 5\\nvalue = [0, 4, 1]'),\n",
       " Text(0.07272727272727272, 0.625, 'x[1] <= 2.45\\ngini = 0.5\\nsamples = 2\\nvalue = [0, 1, 1]'),\n",
       " Text(0.03636363636363636, 0.5416666666666666, 'gini = 0.0\\nsamples = 1\\nvalue = [0, 1, 0]'),\n",
       " Text(0.10909090909090909, 0.5416666666666666, 'gini = 0.0\\nsamples = 1\\nvalue = [0, 0, 1]'),\n",
       " Text(0.14545454545454545, 0.625, 'gini = 0.0\\nsamples = 3\\nvalue = [0, 3, 0]'),\n",
       " Text(0.21818181818181817, 0.7916666666666666, 'x[0] <= 5.35\\ngini = 0.095\\nsamples = 20\\nvalue = [19, 1, 0]'),\n",
       " Text(0.18181818181818182, 0.7083333333333334, 'gini = 0.0\\nsamples = 17\\nvalue = [17, 0, 0]'),\n",
       " Text(0.2545454545454545, 0.7083333333333334, 'x[1] <= 3.2\\ngini = 0.444\\nsamples = 3\\nvalue = [2, 1, 0]'),\n",
       " Text(0.21818181818181817, 0.625, 'gini = 0.0\\nsamples = 1\\nvalue = [0, 1, 0]'),\n",
       " Text(0.2909090909090909, 0.625, 'gini = 0.0\\nsamples = 2\\nvalue = [2, 0, 0]'),\n",
       " Text(0.6454545454545455, 0.875, 'x[0] <= 6.15\\ngini = 0.516\\nsamples = 49\\nvalue = [1, 22, 26]'),\n",
       " Text(0.43636363636363634, 0.7916666666666666, 'x[1] <= 3.6\\ngini = 0.445\\nsamples = 20\\nvalue = [1, 14, 5]'),\n",
       " Text(0.4, 0.7083333333333334, 'x[1] <= 2.25\\ngini = 0.388\\nsamples = 19\\nvalue = [0, 14, 5]'),\n",
       " Text(0.36363636363636365, 0.625, 'gini = 0.0\\nsamples = 1\\nvalue = [0, 0, 1]'),\n",
       " Text(0.43636363636363634, 0.625, 'x[0] <= 5.55\\ngini = 0.346\\nsamples = 18\\nvalue = [0, 14, 4]'),\n",
       " Text(0.4, 0.5416666666666666, 'gini = 0.0\\nsamples = 4\\nvalue = [0, 4, 0]'),\n",
       " Text(0.4727272727272727, 0.5416666666666666, 'x[1] <= 2.85\\ngini = 0.408\\nsamples = 14\\nvalue = [0, 10, 4]'),\n",
       " Text(0.34545454545454546, 0.4583333333333333, 'x[0] <= 5.65\\ngini = 0.469\\nsamples = 8\\nvalue = [0, 5, 3]'),\n",
       " Text(0.3090909090909091, 0.375, 'gini = 0.0\\nsamples = 1\\nvalue = [0, 0, 1]'),\n",
       " Text(0.38181818181818183, 0.375, 'x[0] <= 5.75\\ngini = 0.408\\nsamples = 7\\nvalue = [0, 5, 2]'),\n",
       " Text(0.34545454545454546, 0.2916666666666667, 'gini = 0.0\\nsamples = 2\\nvalue = [0, 2, 0]'),\n",
       " Text(0.41818181818181815, 0.2916666666666667, 'x[0] <= 5.9\\ngini = 0.48\\nsamples = 5\\nvalue = [0, 3, 2]'),\n",
       " Text(0.34545454545454546, 0.20833333333333334, 'x[1] <= 2.7\\ngini = 0.5\\nsamples = 2\\nvalue = [0, 1, 1]'),\n",
       " Text(0.3090909090909091, 0.125, 'gini = 0.0\\nsamples = 1\\nvalue = [0, 1, 0]'),\n",
       " Text(0.38181818181818183, 0.125, 'gini = 0.0\\nsamples = 1\\nvalue = [0, 0, 1]'),\n",
       " Text(0.4909090909090909, 0.20833333333333334, 'x[1] <= 2.65\\ngini = 0.444\\nsamples = 3\\nvalue = [0, 2, 1]'),\n",
       " Text(0.45454545454545453, 0.125, 'gini = 0.0\\nsamples = 1\\nvalue = [0, 0, 1]'),\n",
       " Text(0.5272727272727272, 0.125, 'gini = 0.0\\nsamples = 2\\nvalue = [0, 2, 0]'),\n",
       " Text(0.6, 0.4583333333333333, 'x[0] <= 6.0\\ngini = 0.278\\nsamples = 6\\nvalue = [0, 5, 1]'),\n",
       " Text(0.5636363636363636, 0.375, 'x[0] <= 5.75\\ngini = 0.375\\nsamples = 4\\nvalue = [0, 3, 1]'),\n",
       " Text(0.5272727272727272, 0.2916666666666667, 'gini = 0.0\\nsamples = 1\\nvalue = [0, 1, 0]'),\n",
       " Text(0.6, 0.2916666666666667, 'x[1] <= 3.1\\ngini = 0.444\\nsamples = 3\\nvalue = [0, 2, 1]'),\n",
       " Text(0.5636363636363636, 0.20833333333333334, 'gini = 0.5\\nsamples = 2\\nvalue = [0, 1, 1]'),\n",
       " Text(0.6363636363636364, 0.20833333333333334, 'gini = 0.0\\nsamples = 1\\nvalue = [0, 1, 0]'),\n",
       " Text(0.6363636363636364, 0.375, 'gini = 0.0\\nsamples = 2\\nvalue = [0, 2, 0]'),\n",
       " Text(0.4727272727272727, 0.7083333333333334, 'gini = 0.0\\nsamples = 1\\nvalue = [1, 0, 0]'),\n",
       " Text(0.8545454545454545, 0.7916666666666666, 'x[1] <= 2.6\\ngini = 0.4\\nsamples = 29\\nvalue = [0, 8, 21]'),\n",
       " Text(0.8181818181818182, 0.7083333333333334, 'gini = 0.0\\nsamples = 2\\nvalue = [0, 2, 0]'),\n",
       " Text(0.8909090909090909, 0.7083333333333334, 'x[0] <= 7.05\\ngini = 0.346\\nsamples = 27\\nvalue = [0, 6, 21]'),\n",
       " Text(0.8545454545454545, 0.625, 'x[1] <= 3.25\\ngini = 0.408\\nsamples = 21\\nvalue = [0, 6, 15]'),\n",
       " Text(0.8181818181818182, 0.5416666666666666, 'x[0] <= 6.95\\ngini = 0.469\\nsamples = 16\\nvalue = [0, 6, 10]'),\n",
       " Text(0.7818181818181819, 0.4583333333333333, 'x[1] <= 2.95\\ngini = 0.444\\nsamples = 15\\nvalue = [0, 5, 10]'),\n",
       " Text(0.7090909090909091, 0.375, 'x[0] <= 6.35\\ngini = 0.5\\nsamples = 6\\nvalue = [0, 3, 3]'),\n",
       " Text(0.6727272727272727, 0.2916666666666667, 'gini = 0.0\\nsamples = 2\\nvalue = [0, 0, 2]'),\n",
       " Text(0.7454545454545455, 0.2916666666666667, 'x[1] <= 2.75\\ngini = 0.375\\nsamples = 4\\nvalue = [0, 3, 1]'),\n",
       " Text(0.7090909090909091, 0.20833333333333334, 'gini = 0.0\\nsamples = 1\\nvalue = [0, 0, 1]'),\n",
       " Text(0.7818181818181819, 0.20833333333333334, 'gini = 0.0\\nsamples = 3\\nvalue = [0, 3, 0]'),\n",
       " Text(0.8545454545454545, 0.375, 'x[0] <= 6.6\\ngini = 0.346\\nsamples = 9\\nvalue = [0, 2, 7]'),\n",
       " Text(0.8181818181818182, 0.2916666666666667, 'gini = 0.0\\nsamples = 3\\nvalue = [0, 0, 3]'),\n",
       " Text(0.8909090909090909, 0.2916666666666667, 'x[1] <= 3.15\\ngini = 0.444\\nsamples = 6\\nvalue = [0, 2, 4]'),\n",
       " Text(0.8545454545454545, 0.20833333333333334, 'x[0] <= 6.75\\ngini = 0.48\\nsamples = 5\\nvalue = [0, 2, 3]'),\n",
       " Text(0.7818181818181819, 0.125, 'x[1] <= 3.05\\ngini = 0.5\\nsamples = 2\\nvalue = [0, 1, 1]'),\n",
       " Text(0.7454545454545455, 0.041666666666666664, 'gini = 0.0\\nsamples = 1\\nvalue = [0, 1, 0]'),\n",
       " Text(0.8181818181818182, 0.041666666666666664, 'gini = 0.0\\nsamples = 1\\nvalue = [0, 0, 1]'),\n",
       " Text(0.9272727272727272, 0.125, 'x[0] <= 6.85\\ngini = 0.444\\nsamples = 3\\nvalue = [0, 1, 2]'),\n",
       " Text(0.8909090909090909, 0.041666666666666664, 'gini = 0.0\\nsamples = 1\\nvalue = [0, 0, 1]'),\n",
       " Text(0.9636363636363636, 0.041666666666666664, 'gini = 0.5\\nsamples = 2\\nvalue = [0, 1, 1]'),\n",
       " Text(0.9272727272727272, 0.20833333333333334, 'gini = 0.0\\nsamples = 1\\nvalue = [0, 0, 1]'),\n",
       " Text(0.8545454545454545, 0.4583333333333333, 'gini = 0.0\\nsamples = 1\\nvalue = [0, 1, 0]'),\n",
       " Text(0.8909090909090909, 0.5416666666666666, 'gini = 0.0\\nsamples = 5\\nvalue = [0, 0, 5]'),\n",
       " Text(0.9272727272727272, 0.625, 'gini = 0.0\\nsamples = 6\\nvalue = [0, 0, 6]')]"
      ]
     },
     "execution_count": 32,
     "metadata": {},
     "output_type": "execute_result"
    },
    {
     "data": {
      "image/png": "[encoded data removed]",
      "text/plain": [
       "<Figure size 640x480 with 1 Axes>"
      ]
     },
     "metadata": {},
     "output_type": "display_data"
    }
   ],
   "source": [
    "from sklearn import tree\n",
    "\n",
    "# train the tree\n",
    "clf = tree.DecisionTreeClassifier()\n",
    "clf = clf.fit(X_train, y_train)\n",
    "\n",
    "# vizualize the tree\n",
    "tree.plot_tree(clf)"
   ]
  }
 ],
 "metadata": {
  "kernelspec": {
   "display_name": "Python 3",
   "language": "python",
   "name": "python3"
  },
  "language_info": {
   "codemirror_mode": {
    "name": "ipython",
    "version": 3
   },
   "file_extension": ".py",
   "mimetype": "text/x-python",
   "name": "python",
   "nbconvert_exporter": "python",
   "pygments_lexer": "ipython3",
   "version": "3.11.1"
  },
  "orig_nbformat": 4,
  "vscode": {
   "interpreter": {
    "hash": "5238573367df39f7286bb46f9ff5f08f63a01a80960060ce41e3c79b190280fa"
   }
  }
 },
 "nbformat": 4,
 "nbformat_minor": 2
}
